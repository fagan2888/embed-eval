{
 "cells": [
  {
   "cell_type": "code",
   "execution_count": 1,
   "metadata": {
    "collapsed": true
   },
   "outputs": [],
   "source": [
    "%matplotlib inline\n",
    "import os\n",
    "import pandas as pd\n",
    "import matplotlib.pyplot as plt\n",
    "import numpy as np\n",
    "# plots theme\n",
    "plt.style.use('seaborn-paper')"
   ]
  },
  {
   "cell_type": "markdown",
   "metadata": {},
   "source": [
    "# Analyzing Corpora Text"
   ]
  },
  {
   "cell_type": "markdown",
   "metadata": {},
   "source": [
    "To Do:\n",
    "1. add a hist plot for sentence lenghts for each corpus.\n",
    "2. add a hist plot for word counts for each corpus."
   ]
  },
  {
   "cell_type": "markdown",
   "metadata": {},
   "source": [
    "#### Generating vocabulary count and word frequencies from corpora text"
   ]
  },
  {
   "cell_type": "markdown",
   "metadata": {},
   "source": [
    "imdb"
   ]
  },
  {
   "cell_type": "code",
   "execution_count": 25,
   "metadata": {
    "collapsed": false
   },
   "outputs": [
    {
     "name": "stdout",
     "output_type": "stream",
     "text": [
      " 23573192 data/corpus/imdb-100k-cleaned.txt\n",
      " 125882839 data/corpus/imdb-100k-cleaned.txt\n"
     ]
    }
   ],
   "source": [
    "!wc -w  'data/corpus/imdb-100k-cleaned.txt' # no. words\n",
    "!wc -c 'data/corpus/imdb-100k-cleaned.txt' # no. chars"
   ]
  },
  {
   "cell_type": "code",
   "execution_count": 18,
   "metadata": {
    "collapsed": false
   },
   "outputs": [],
   "source": [
    "!/Users/Aziz/Downloads/glove/build/vocab_count -min-count 5 < 'data/corpus/imdb-100k-cleaned.txt' > data/imdb-vocab.txt"
   ]
  },
  {
   "cell_type": "markdown",
   "metadata": {},
   "source": [
    "```\n",
    "Processed 23573192 tokens.\n",
    "Counted 144841 unique words.\n",
    "Truncating vocabulary at min count 5.\n",
    "Using vocabulary of size 53199.\n",
    "```"
   ]
  },
  {
   "cell_type": "markdown",
   "metadata": {},
   "source": [
    "imdb-text8"
   ]
  },
  {
   "cell_type": "code",
   "execution_count": 27,
   "metadata": {
    "collapsed": false
   },
   "outputs": [
    {
     "name": "stdout",
     "output_type": "stream",
     "text": [
      " 40578399 data/corpus/imdb-text8.txt\n",
      " 225882839 data/corpus/imdb-text8.txt\n"
     ]
    }
   ],
   "source": [
    "!wc -w  'data/corpus/imdb-text8.txt' # no. words\n",
    "!wc -c 'data/corpus/imdb-text8.txt' # no. chars"
   ]
  },
  {
   "cell_type": "code",
   "execution_count": 23,
   "metadata": {
    "collapsed": false
   },
   "outputs": [],
   "source": [
    "!/Users/Aziz/Downloads/glove/build/vocab_count -min-count 5 < 'data/corpus/imdb-text8.txt' > data/imdb-text8-vocab.txt"
   ]
  },
  {
   "cell_type": "markdown",
   "metadata": {},
   "source": [
    "```\n",
    "Processed 40578399 tokens.\n",
    "Counted 322737 unique words.\n",
    "Truncating vocabulary at min count 5.\n",
    "Using vocabulary of size 94123.\n",
    "```"
   ]
  },
  {
   "cell_type": "markdown",
   "metadata": {},
   "source": [
    "text8"
   ]
  },
  {
   "cell_type": "code",
   "execution_count": 26,
   "metadata": {
    "collapsed": false
   },
   "outputs": [
    {
     "name": "stdout",
     "output_type": "stream",
     "text": [
      " 17005207 data/corpus/text8\n",
      " 100000000 data/corpus/text8\n"
     ]
    }
   ],
   "source": [
    "!wc -w  'data/corpus/text8' # no. words\n",
    "!wc -c 'data/corpus/text8' # no. chars"
   ]
  },
  {
   "cell_type": "code",
   "execution_count": 22,
   "metadata": {
    "collapsed": false
   },
   "outputs": [],
   "source": [
    "!/Users/Aziz/Downloads/glove/build/vocab_count -min-count 5 < 'data/corpus/text8' > data/text8-vocab.txt"
   ]
  },
  {
   "cell_type": "markdown",
   "metadata": {},
   "source": [
    "```\n",
    "Processed 17005207 tokens.\n",
    "Counted 253854 unique words.\n",
    "Truncating vocabulary at min count 5.\n",
    "Using vocabulary of size 71290.\n",
    "```"
   ]
  },
  {
   "cell_type": "markdown",
   "metadata": {},
   "source": [
    "Dump to file"
   ]
  },
  {
   "cell_type": "raw",
   "metadata": {
    "collapsed": false
   },
   "source": [
    "%%writefile data/stats-pd.txt\n",
    "| train_char | train_word | train_unique | embed_vocab | embed_acc |\n",
    "|:----------:|:----------:|:------------:|:-----------:|:---------:|\n",
    "| 125882839  |  23573192  |    144841    |    53195    |   33.41   |\n",
    "| 225882839  |  40578399  |    322737    |    94158    |   59.89   |\n",
    "| 100000000  |  17005207  |    253854    |    71291    |   53.60   |\n",
    "| 300000000  | 100000000  |     4e5      |   3000000   |   76.85   |\n"
   ]
  },
  {
   "cell_type": "code",
   "execution_count": 2,
   "metadata": {
    "collapsed": false
   },
   "outputs": [
    {
     "data": {
      "text/html": [
       "<div>\n",
       "<table border=\"1\" class=\"dataframe\">\n",
       "  <thead>\n",
       "    <tr style=\"text-align: right;\">\n",
       "      <th></th>\n",
       "      <th>train_char</th>\n",
       "      <th>train_word</th>\n",
       "      <th>train_unique</th>\n",
       "      <th>embed_vocab</th>\n",
       "      <th>embed_acc</th>\n",
       "    </tr>\n",
       "  </thead>\n",
       "  <tbody>\n",
       "    <tr>\n",
       "      <th>imdb</th>\n",
       "      <td>125882839</td>\n",
       "      <td>23573192</td>\n",
       "      <td>144841</td>\n",
       "      <td>53195</td>\n",
       "      <td>33.41</td>\n",
       "    </tr>\n",
       "    <tr>\n",
       "      <th>imdbtext8</th>\n",
       "      <td>225882839</td>\n",
       "      <td>40578399</td>\n",
       "      <td>322737</td>\n",
       "      <td>94158</td>\n",
       "      <td>59.89</td>\n",
       "    </tr>\n",
       "    <tr>\n",
       "      <th>text8</th>\n",
       "      <td>100000000</td>\n",
       "      <td>17005207</td>\n",
       "      <td>253854</td>\n",
       "      <td>71291</td>\n",
       "      <td>53.60</td>\n",
       "    </tr>\n",
       "    <tr>\n",
       "      <th>google</th>\n",
       "      <td>300000000</td>\n",
       "      <td>100000000</td>\n",
       "      <td>400000</td>\n",
       "      <td>3000000</td>\n",
       "      <td>76.85</td>\n",
       "    </tr>\n",
       "  </tbody>\n",
       "</table>\n",
       "</div>"
      ],
      "text/plain": [
       "            train_char    train_word    train_unique    embed_vocab   \\\n",
       "imdb          125882839      23573192          144841          53195   \n",
       "imdbtext8     225882839      40578399          322737          94158   \n",
       "text8         100000000      17005207          253854          71291   \n",
       "google        300000000     100000000          400000        3000000   \n",
       "\n",
       "            embed_acc   \n",
       "imdb             33.41  \n",
       "imdbtext8        59.89  \n",
       "text8            53.60  \n",
       "google           76.85  "
      ]
     },
     "execution_count": 2,
     "metadata": {},
     "output_type": "execute_result"
    }
   ],
   "source": [
    "import pandas as pd\n",
    "df_stat = pd.read_csv(\"data/stats-pd.txt\", sep=\"|\")#, index_col=1)\n",
    "df_stat = df_stat.drop(df_stat.columns[0], axis=1)\n",
    "df_stat = df_stat.drop(df_stat.columns[-1], axis=1)\n",
    "df_stat = df_stat.drop(df_stat.index[0], axis=0)\n",
    "df_stat = df_stat.astype(float)\n",
    "df_stat = df_stat.T.copy()\n",
    "cols = ['imdb', 'imdbtext8', 'text8', 'google']\n",
    "df_stat.columns = cols\n",
    "df_stat.T"
   ]
  },
  {
   "cell_type": "code",
   "execution_count": 42,
   "metadata": {
    "collapsed": false
   },
   "outputs": [
    {
     "data": {
      "text/plain": [
       "<matplotlib.legend.Legend at 0x11d8e5990>"
      ]
     },
     "execution_count": 42,
     "metadata": {},
     "output_type": "execute_result"
    },
    {
     "data": {
      "image/png": "[encoded data removed]",
      "text/plain": [
       "<matplotlib.figure.Figure at 0x11d595410>"
      ]
     },
     "metadata": {},
     "output_type": "display_data"
    }
   ],
   "source": [
    "fig, axes = plt.subplots(nrows=3, ncols=1, figsize=(4,9))\n",
    "a = df_stat[:2].plot.barh(ax=axes[0], legend=0, grid=1);a.set_xlim((0,2.5e8));a.set_title('Training Text Statistics')\n",
    "b = df_stat[2:3].plot.bar(ax=axes[1],legend=0, grid=1);b.set_ylim((10,4e5));b.set_title('train_unique');b.set_xticklabels('')\n",
    "c = df_stat[3:4].plot.barh(ax=axes[2], legend=0, grid=1);c.set_xlim((0,2e5))\n",
    "c.legend(bbox_to_anchor=((1,3.4)), fontsize=8)\n",
    "# fig.savefig('../w2v-eval/img/cp-stats.png', dpi=300, bbox_inches='tight')"
   ]
  },
  {
   "cell_type": "code",
   "execution_count": 139,
   "metadata": {
    "collapsed": false
   },
   "outputs": [
    {
     "data": {
      "image/png": "[encoded data removed]",
      "text/plain": [
       "<matplotlib.figure.Figure at 0x111021f10>"
      ]
     },
     "metadata": {},
     "output_type": "display_data"
    }
   ],
   "source": [
    "a = df_stat[:2].plot.barh(grid=1)\n",
    "a.set_xlim((0,2.5e8))\n",
    "a.set_xlabel('a hundred million')\n",
    "plt.savefig('../w2v-eval/img/cp-stats1.png', dpi=300, bbox_inches='tight')"
   ]
  },
  {
   "cell_type": "code",
   "execution_count": 135,
   "metadata": {
    "collapsed": false
   },
   "outputs": [
    {
     "data": {
      "image/png": "[encoded data removed]",
      "text/plain": [
       "<matplotlib.figure.Figure at 0x1111217d0>"
      ]
     },
     "metadata": {},
     "output_type": "display_data"
    }
   ],
   "source": [
    "fig, axes = plt.subplots(nrows=2, ncols=1, figsize=(5,7))\n",
    "a = df_stat[1:2].plot.barh(ax=axes[0],grid=1)\n",
    "a.set_xlim((0,1.2e8))\n",
    "a.set_xlabel('a billion')\n",
    "\n",
    "b = df_stat[2:3].plot.barh(ax=axes[1], grid=1)\n",
    "# plt.savefig('../w2v-eval/img/cp-stats2.png', dpi=300, bbox_inches='tight')"
   ]
  },
  {
   "cell_type": "code",
   "execution_count": 89,
   "metadata": {
    "collapsed": false
   },
   "outputs": [],
   "source": [
    "voca_imdb = open('data/imdb-vocab.txt', 'r').readlines()\n",
    "word_count = []\n",
    "for line in voca_imdb:\n",
    "    word, count = line.split()\n",
    "    word_count.append((word, count))"
   ]
  },
  {
   "cell_type": "code",
   "execution_count": 95,
   "metadata": {
    "collapsed": false
   },
   "outputs": [
    {
     "name": "stdout",
     "output_type": "stream",
     "text": [
      "the 1345417   and 654138   a 650985   of 583143   to 539427   is 425331   it 381961   in 375469   i 345083   this 300789  \n"
     ]
    }
   ],
   "source": [
    "for w, c in word_count[:10]: print w, c,' ',"
   ]
  },
  {
   "cell_type": "code",
   "execution_count": 190,
   "metadata": {
    "collapsed": false
   },
   "outputs": [
    {
     "data": {
      "text/plain": [
       "53199"
      ]
     },
     "execution_count": 190,
     "metadata": {},
     "output_type": "execute_result"
    }
   ],
   "source": [
    "len(word_count)"
   ]
  },
  {
   "cell_type": "markdown",
   "metadata": {},
   "source": [
    "### Word and Letters Frequencies"
   ]
  },
  {
   "cell_type": "code",
   "execution_count": 8,
   "metadata": {
    "collapsed": true
   },
   "outputs": [],
   "source": [
    "FILE_imdb = 'data/corpus/imdb-100k-cleaned.txt'\n",
    "FILE_text8 = 'data/corpus/text8'\n",
    "FILE_db8 = 'data/corpus/imdb-text8.txt'"
   ]
  },
  {
   "cell_type": "code",
   "execution_count": 21,
   "metadata": {
    "collapsed": false
   },
   "outputs": [],
   "source": [
    "# TEXT_imdb = open(FILE_imdb, 'r').read()\n",
    "# TEXT_text8 = open(FILE_text8, 'r').read()\n",
    "# TEXT_db8 = open(FILE_db8, 'r').read()"
   ]
  },
  {
   "cell_type": "code",
   "execution_count": 26,
   "metadata": {
    "collapsed": false
   },
   "outputs": [
    {
     "data": {
      "text/plain": [
       "53199"
      ]
     },
     "execution_count": 26,
     "metadata": {},
     "output_type": "execute_result"
    }
   ],
   "source": [
    "len([c for w,c in WORDS_imdb.items() if c >= 5])"
   ]
  },
  {
   "cell_type": "code",
   "execution_count": 23,
   "metadata": {
    "collapsed": false
   },
   "outputs": [
    {
     "data": {
      "text/plain": [
       "253854"
      ]
     },
     "execution_count": 23,
     "metadata": {},
     "output_type": "execute_result"
    }
   ],
   "source": [
    "WORDS_text8 = Counter(TEXT_text8.split())\n",
    "len(WORDS_text8)"
   ]
  },
  {
   "cell_type": "code",
   "execution_count": 24,
   "metadata": {
    "collapsed": false
   },
   "outputs": [
    {
     "data": {
      "text/plain": [
       "322737"
      ]
     },
     "execution_count": 24,
     "metadata": {},
     "output_type": "execute_result"
    }
   ],
   "source": [
    "WORDS_db8 = Counter(TEXT_db8.split())\n",
    "len(WORDS_db8)"
   ]
  },
  {
   "cell_type": "markdown",
   "metadata": {},
   "source": [
    "http://nbviewer.jupyter.org/url/norvig.com/ipython/How%20to%20Do%20Things%20with%20Words.ipynb"
   ]
  },
  {
   "cell_type": "code",
   "execution_count": 26,
   "metadata": {
    "collapsed": true
   },
   "outputs": [],
   "source": [
    "import re"
   ]
  },
  {
   "cell_type": "code",
   "execution_count": 25,
   "metadata": {
    "collapsed": true
   },
   "outputs": [],
   "source": [
    "def tokens(text):\n",
    "    \"List all the word tokens (consecutive letters) in a text. Normalize to lowercase.\"\n",
    "    return re.findall('[a-z]+', text.lower())"
   ]
  },
  {
   "cell_type": "code",
   "execution_count": 28,
   "metadata": {
    "collapsed": false
   },
   "outputs": [
    {
     "data": {
      "text/plain": [
       "(1345417, 2406813, 1061396)"
      ]
     },
     "execution_count": 28,
     "metadata": {},
     "output_type": "execute_result"
    }
   ],
   "source": [
    "WORDS_imdb['the'], WORDS_db8['the'], WORDS_text8['the']"
   ]
  },
  {
   "cell_type": "code",
   "execution_count": 29,
   "metadata": {
    "collapsed": false
   },
   "outputs": [
    {
     "data": {
      "text/plain": [
       "<matplotlib.legend.Legend at 0x15b11f2d0>"
      ]
     },
     "execution_count": 29,
     "metadata": {},
     "output_type": "execute_result"
    },
    {
     "data": {
      "image/png": "[encoded data removed]",
      "text/plain": [
       "<matplotlib.figure.Figure at 0x109cf29d0>"
      ]
     },
     "metadata": {},
     "output_type": "display_data"
    }
   ],
   "source": [
    "M = WORDS_db8['the']\n",
    "plt.yscale('log');plt.xscale('log');\n",
    "plt.plot([c for w, c in WORDS_imdb.most_common() if c >= 5])\n",
    "plt.plot([c for w, c in WORDS_text8.most_common() if c >= 5])\n",
    "plt.plot([c for w, c in WORDS_db8.most_common() if c >= 5])\n",
    "plt.plot([M/i for i in range(1,len(WORDS_db8)+1)])\n",
    "plt.grid();plt.legend(['imdb','text8','db8', 'the'])"
   ]
  },
  {
   "cell_type": "markdown",
   "metadata": {},
   "source": [
    "**convert word counts to DataFrame**"
   ]
  },
  {
   "cell_type": "code",
   "execution_count": 78,
   "metadata": {
    "collapsed": false
   },
   "outputs": [
    {
     "data": {
      "text/plain": [
       "(53199, 2)"
      ]
     },
     "execution_count": 78,
     "metadata": {},
     "output_type": "execute_result"
    }
   ],
   "source": [
    "# dataframe\n",
    "df_WRD_imdb = pd.DataFrame.from_dict(WORDS_imdb.items())\n",
    "df_WRD_imdb.columns = ['word','count']\n",
    "df_WRD_imdb = df_WRD_imdb.sort_values('count', ascending=False)\n",
    "df_WRD_imdb = df_WRD_imdb[df_WRD_imdb['count'] >= 5]\n",
    "df_WRD_imdb.shape"
   ]
  },
  {
   "cell_type": "code",
   "execution_count": 79,
   "metadata": {
    "collapsed": false
   },
   "outputs": [
    {
     "data": {
      "text/plain": [
       "(71290, 2)"
      ]
     },
     "execution_count": 79,
     "metadata": {},
     "output_type": "execute_result"
    }
   ],
   "source": [
    "# dataframe\n",
    "df_WRD_t8 = pd.DataFrame.from_dict(WORDS_text8.items())\n",
    "df_WRD_t8.columns = ['word','count']\n",
    "df_WRD_t8 = df_WRD_t8.sort_values('count', ascending=False)\n",
    "df_WRD_t8 = df_WRD_t8[df_WRD_t8['count'] >= 5]\n",
    "df_WRD_t8.shape"
   ]
  },
  {
   "cell_type": "code",
   "execution_count": 80,
   "metadata": {
    "collapsed": false
   },
   "outputs": [
    {
     "data": {
      "text/plain": [
       "(94123, 2)"
      ]
     },
     "execution_count": 80,
     "metadata": {},
     "output_type": "execute_result"
    }
   ],
   "source": [
    "# dataframe\n",
    "df_WRD_db8 = pd.DataFrame.from_dict(WORDS_db8.items())\n",
    "df_WRD_db8.columns = ['word','count']\n",
    "df_WRD_db8 = df_WRD_db8.sort_values('count', ascending=False) # order dataframe by count \n",
    "df_WRD_db8 = df_WRD_db8[df_WRD_db8['count'] >= 5]\n",
    "df_WRD_db8.shape"
   ]
  },
  {
   "cell_type": "markdown",
   "metadata": {},
   "source": [
    "**convert char counts to DataFrames**"
   ]
  },
  {
   "cell_type": "code",
   "execution_count": 86,
   "metadata": {
    "collapsed": true
   },
   "outputs": [],
   "source": [
    "# dataframe\n",
    "df_CHR_imdb = pd.DataFrame.from_dict(CHR_imdb.items())\n",
    "df_CHR_imdb.columns = ['char', 'count']\n",
    "df_CHR_imdb = df_CHR_imdb.sort_values('count', ascending=0)"
   ]
  },
  {
   "cell_type": "code",
   "execution_count": 33,
   "metadata": {
    "collapsed": true
   },
   "outputs": [],
   "source": [
    "# dataframe\n",
    "df_CHR_t8 = pd.DataFrame.from_dict(CHR_text8.items())\n",
    "df_CHR_t8.columns = ['char', 'count']\n",
    "df_CHR_t8 = df_CHR_t8.sort_values('count', ascending=0)"
   ]
  },
  {
   "cell_type": "code",
   "execution_count": 87,
   "metadata": {
    "collapsed": true
   },
   "outputs": [],
   "source": [
    "# dataframe\n",
    "df_CHR_db8 = pd.DataFrame.from_dict(CHR_db8.items())\n",
    "df_CHR_db8.columns = ['char', 'count']\n",
    "df_CHR_db8 = df_CHR_db8.sort_values('count', ascending=0)"
   ]
  },
  {
   "cell_type": "markdown",
   "metadata": {},
   "source": [
    "**Save to csv files**"
   ]
  },
  {
   "cell_type": "code",
   "execution_count": 81,
   "metadata": {
    "collapsed": false
   },
   "outputs": [],
   "source": [
    "df_WRD_imdb.to_csv('data/corpus/stats/WRD-imdb.csv', index=0)"
   ]
  },
  {
   "cell_type": "code",
   "execution_count": 82,
   "metadata": {
    "collapsed": true
   },
   "outputs": [],
   "source": [
    "df_WRD_t8.to_csv('data/corpus/stats/WRD-text8.csv', index=0)"
   ]
  },
  {
   "cell_type": "code",
   "execution_count": 83,
   "metadata": {
    "collapsed": false
   },
   "outputs": [],
   "source": [
    "df_WRD_db8.to_csv('data/corpus/stats/WRD-imdbtext8.csv', index=0)"
   ]
  },
  {
   "cell_type": "markdown",
   "metadata": {},
   "source": [
    "charcater counts to csv"
   ]
  },
  {
   "cell_type": "code",
   "execution_count": 88,
   "metadata": {
    "collapsed": true
   },
   "outputs": [],
   "source": [
    "df_CHR_imdb.to_csv('data/corpus/stats/CHR-imdb.csv', index=0)\n",
    "df_CHR_t8.to_csv('data/corpus/stats/CHR-text8.csv', index=0)\n",
    "df_CHR_db8.to_csv('data/corpus/stats/CHR-imdbtext8.csv', index=0)"
   ]
  },
  {
   "cell_type": "markdown",
   "metadata": {},
   "source": [
    "# Read coprora stats from csv"
   ]
  },
  {
   "cell_type": "code",
   "execution_count": 284,
   "metadata": {
    "collapsed": false
   },
   "outputs": [],
   "source": [
    "df_WRD_imdb = pd.read_csv('data/corpus/stats/WRD-imdb.csv')\n",
    "df_WRD_db8 = pd.read_csv('data/corpus/stats/WRD-imdbtext8.csv')\n",
    "df_WRD_t8 = pd.read_csv('data/corpus/stats/WRD-text8.csv')"
   ]
  },
  {
   "cell_type": "code",
   "execution_count": 322,
   "metadata": {
    "collapsed": true
   },
   "outputs": [],
   "source": [
    "df_CHR_imdb = pd.read_csv('data/corpus/stats/CHR-imdb.csv')\n",
    "df_CHR_db8 = pd.read_csv('data/corpus/stats/CHR-imdbtext8.csv')\n",
    "df_CHR_t8 = pd.read_csv('data/corpus/stats/CHR-text8.csv')"
   ]
  },
  {
   "cell_type": "markdown",
   "metadata": {},
   "source": [
    "### Letters Frequency:"
   ]
  },
  {
   "cell_type": "code",
   "execution_count": 32,
   "metadata": {
    "collapsed": false
   },
   "outputs": [],
   "source": [
    "def plot_char_frequency(char_count, title='Letters Usage', lim=2.5e7):\n",
    "    try:\n",
    "        del char_count[' ']\n",
    "    except KeyError:\n",
    "        pass\n",
    "    plt.plot(char_count.values())\n",
    "    plt.xticks(range(len(char_count.keys())), char_count.keys())\n",
    "    plt.title(title)\n",
    "    plt.ylim((0,lim))\n",
    "    plt.grid()"
   ]
  },
  {
   "cell_type": "code",
   "execution_count": 32,
   "metadata": {
    "collapsed": false
   },
   "outputs": [
    {
     "data": {
      "text/plain": [
       "<matplotlib.text.Text at 0x108954a90>"
      ]
     },
     "execution_count": 32,
     "metadata": {},
     "output_type": "execute_result"
    },
    {
     "data": {
      "image/png": "[encoded data removed]",
      "text/plain": [
       "<matplotlib.figure.Figure at 0x15ad10810>"
      ]
     },
     "metadata": {},
     "output_type": "display_data"
    }
   ],
   "source": [
    "plot_char_frequency(CHR_imdb)\n",
    "plot_char_frequency(CHR_text8)\n",
    "plot_char_frequency(CHR_db8)\n",
    "plt.legend(['imdb', 'text8', 'imdb-text8'])\n",
    "plt.ylabel('Frequency (10 million)')\n",
    "# plt.savefig('../w2v-eval/img/cp-letter-freq.png', dpi=300, bbox_inches='tight')"
   ]
  },
  {
   "cell_type": "code",
   "execution_count": 23,
   "metadata": {
    "collapsed": false
   },
   "outputs": [],
   "source": [
    "import requests\n",
    "TEXT_shk =  requests.get('http://norvig.com/ngrams/shakespeare.txt').text"
   ]
  },
  {
   "cell_type": "code",
   "execution_count": 27,
   "metadata": {
    "collapsed": false
   },
   "outputs": [],
   "source": [
    "TOKENS_shk = tokens(TEXT_shk) # small char words"
   ]
  },
  {
   "cell_type": "code",
   "execution_count": 28,
   "metadata": {
    "collapsed": true
   },
   "outputs": [],
   "source": [
    "TEXT_shk = ' '.join(TOKENS_shk) # back to cleaned text"
   ]
  },
  {
   "cell_type": "code",
   "execution_count": 30,
   "metadata": {
    "collapsed": false
   },
   "outputs": [
    {
     "data": {
      "text/plain": [
       "22987"
      ]
     },
     "execution_count": 30,
     "metadata": {},
     "output_type": "execute_result"
    }
   ],
   "source": [
    "from collections import Counter\n",
    "WORDS_shk = Counter(TEXT_shk.split())\n",
    "len(WORDS_shk)"
   ]
  },
  {
   "cell_type": "code",
   "execution_count": 31,
   "metadata": {
    "collapsed": false
   },
   "outputs": [
    {
     "data": {
      "text/plain": [
       "27"
      ]
     },
     "execution_count": 31,
     "metadata": {},
     "output_type": "execute_result"
    }
   ],
   "source": [
    "CHR_shk = Counter(TEXT_shk)\n",
    "len(CHR_shk)"
   ]
  },
  {
   "cell_type": "code",
   "execution_count": 53,
   "metadata": {
    "collapsed": false
   },
   "outputs": [],
   "source": [
    "# save clean shk text to file\n",
    "open('data/corpus/shakespeare-clean.txt', 'w').write(TEXT_shk)"
   ]
  },
  {
   "cell_type": "code",
   "execution_count": 48,
   "metadata": {
    "collapsed": false
   },
   "outputs": [
    {
     "data": {
      "text/plain": [
       "<matplotlib.text.Text at 0x11b826550>"
      ]
     },
     "execution_count": 48,
     "metadata": {},
     "output_type": "execute_result"
    },
    {
     "data": {
      "image/png": "[encoded data removed]",
      "text/plain": [
       "<matplotlib.figure.Figure at 0x11abb4250>"
      ]
     },
     "metadata": {},
     "output_type": "display_data"
    }
   ],
   "source": [
    "plot_char_frequency(CHR_shk, title='Shakespeare', lim=.5e6)\n",
    "plt.ylabel('Frequency')"
   ]
  },
  {
   "cell_type": "code",
   "execution_count": 45,
   "metadata": {
    "collapsed": false
   },
   "outputs": [
    {
     "data": {
      "text/plain": [
       "(8070, 2)"
      ]
     },
     "execution_count": 45,
     "metadata": {},
     "output_type": "execute_result"
    }
   ],
   "source": [
    "# dataframe\n",
    "df_WRD_shk = pd.DataFrame.from_dict(WORDS_shk.items())\n",
    "df_WRD_shk.columns = ['word','count']\n",
    "df_WRD_shk = df_WRD_shk.sort_values('count', ascending=False)\n",
    "df_WRD_shk = df_WRD_shk[df_WRD_shk['count'] >= 5]\n",
    "df_WRD_shk.shape"
   ]
  },
  {
   "cell_type": "code",
   "execution_count": 54,
   "metadata": {
    "collapsed": false
   },
   "outputs": [
    {
     "data": {
      "text/plain": [
       "(26, 2)"
      ]
     },
     "execution_count": 54,
     "metadata": {},
     "output_type": "execute_result"
    }
   ],
   "source": [
    "# dataframe\n",
    "df_CHR_shk = pd.DataFrame.from_dict(CHR_shk.items())\n",
    "df_CHR_shk.columns = ['char', 'count']\n",
    "df_CHR_shk = df_CHR_shk.sort_values('count', ascending=0)\n",
    "df_CHR_shk.shape"
   ]
  },
  {
   "cell_type": "code",
   "execution_count": 46,
   "metadata": {
    "collapsed": true
   },
   "outputs": [],
   "source": [
    "# to csv\n",
    "df_WRD_shk.to_csv('data/corpus/stats/WRD-shakespeare.csv', index=0)\n",
    "df_CHR_shk.to_csv('data/corpus/stats/CHR-shakespeare.csv', index=0)"
   ]
  },
  {
   "cell_type": "markdown",
   "metadata": {
    "collapsed": false
   },
   "source": [
    "> Note `big.txt` and `shakespeare.txt` are the same\n",
    "\n",
    "```python \n",
    "all(df_CHR_big == df_CHR_shk) # True\n",
    "\n",
    "```"
   ]
  },
  {
   "cell_type": "code",
   "execution_count": null,
   "metadata": {
    "collapsed": true
   },
   "outputs": [],
   "source": [
    "# play "
   ]
  },
  {
   "cell_type": "code",
   "execution_count": 491,
   "metadata": {
    "collapsed": false
   },
   "outputs": [
    {
     "name": "stdout",
     "output_type": "stream",
     "text": [
      "6436 234229 36.3935674332\n",
      "633818 12296753 19.4010788586\n"
     ]
    }
   ],
   "source": [
    "print CHR_big['j'], CHR_imdb['j'], CHR_imdb['j'] / CHR_big['j']\n",
    "print CHR_big['e'], CHR_imdb['e'], CHR_imdb['e'] / CHR_big['e']"
   ]
  },
  {
   "cell_type": "code",
   "execution_count": 548,
   "metadata": {
    "collapsed": false
   },
   "outputs": [
    {
     "name": "stdout",
     "output_type": "stream",
     "text": [
      "1.32456811721 1.30675156464 1.32679462962\n"
     ]
    }
   ],
   "source": [
    "a, b = 'g', 'b'\n",
    "print CHR_big[a] / CHR_big[b], CHR_imdb[a] / CHR_imdb[b], CHR_text8[a] / CHR_text8[b]"
   ]
  },
  {
   "cell_type": "code",
   "execution_count": 498,
   "metadata": {
    "collapsed": false
   },
   "outputs": [
    {
     "data": {
      "image/png": "[encoded data removed]",
      "text/plain": [
       "<matplotlib.figure.Figure at 0x1a719b9d0>"
      ]
     },
     "metadata": {},
     "output_type": "display_data"
    },
    {
     "data": {
      "image/png": "[encoded data removed]",
      "text/plain": [
       "<matplotlib.figure.Figure at 0x19c6bdf10>"
      ]
     },
     "metadata": {},
     "output_type": "display_data"
    }
   ],
   "source": [
    "plot_char_frequency(CHR_big, lim=1e6)\n",
    "plt.show()\n",
    "plot_char_frequency(CHR_text8, lim=2e7)\n",
    "plot_char_frequency(CHR_imdb, lim=2e7)\n",
    "plt.grid()\n",
    "plt.show()"
   ]
  },
  {
   "cell_type": "markdown",
   "metadata": {},
   "source": [
    "#### Letter distribution "
   ]
  },
  {
   "cell_type": "markdown",
   "metadata": {},
   "source": [
    "Ordered by frequency"
   ]
  },
  {
   "cell_type": "code",
   "execution_count": 323,
   "metadata": {
    "collapsed": false
   },
   "outputs": [
    {
     "data": {
      "image/png": "[encoded data removed]",
      "text/plain": [
       "<matplotlib.figure.Figure at 0x123c24490>"
      ]
     },
     "metadata": {},
     "output_type": "display_data"
    }
   ],
   "source": [
    "plt.figure(figsize=(7,5))\n",
    "plt.plot(df_CHR_imdb['count'])\n",
    "plt.plot(df_CHR_t8['count'])\n",
    "plt.plot(df_CHR_db8['count'])\n",
    "plt.legend(['imdb', 'text8', 'imdbtext8']);plt.grid()\n",
    "plt.ylabel('10 million')\n",
    "plt.title('Letters frequencies ordered by frequency')\n",
    "plt.xticks(range(len(df_CHR_db8)), df_CHR_db8.char)\n",
    "plt.savefig('../w2v-eval/img/cp-letter-freq0.png', dpi=300, bbox_inches='tight')"
   ]
  },
  {
   "cell_type": "markdown",
   "metadata": {},
   "source": [
    "Ordered by alphabet"
   ]
  },
  {
   "cell_type": "code",
   "execution_count": 291,
   "metadata": {
    "collapsed": true
   },
   "outputs": [],
   "source": [
    "# dataframe\n",
    "a = df_CHR_imdb.copy()\n",
    "b = df_CHR_t8.copy()\n",
    "c = df_CHR_db8.copy()\n",
    "a = a.sort_values('char')\n",
    "b = b.sort_values('char')\n",
    "c = c.sort_values('char')"
   ]
  },
  {
   "cell_type": "code",
   "execution_count": 292,
   "metadata": {
    "collapsed": true
   },
   "outputs": [],
   "source": [
    "a.to_csv('data/corpus/stats/CHR-imdb-ALPHABETICALLY.csv', index=0)\n",
    "b.to_csv('data/corpus/stats/CHR-text8-ALPHABETICALLY.csv', index=0)\n",
    "c.to_csv('data/corpus/stats/CHR-imdbtext8-ALPHABETICALLY.csv', index=0)"
   ]
  },
  {
   "cell_type": "code",
   "execution_count": 293,
   "metadata": {
    "collapsed": false
   },
   "outputs": [],
   "source": [
    "a = pd.read_csv('data/corpus/stats/CHR-imdb-ALPHABETICALLY.csv')\n",
    "b = pd.read_csv('data/corpus/stats/CHR-text8-ALPHABETICALLY.csv')\n",
    "c = pd.read_csv('data/corpus/stats/CHR-imdbtext8-ALPHABETICALLY.csv')"
   ]
  },
  {
   "cell_type": "code",
   "execution_count": 328,
   "metadata": {
    "collapsed": true
   },
   "outputs": [],
   "source": [
    "import matplotlib.gridspec as gridspec"
   ]
  },
  {
   "cell_type": "code",
   "execution_count": 364,
   "metadata": {
    "collapsed": false
   },
   "outputs": [
    {
     "data": {
      "image/png": "[encoded data removed]",
      "text/plain": [
       "<matplotlib.figure.Figure at 0x127d49c90>"
      ]
     },
     "metadata": {},
     "output_type": "display_data"
    }
   ],
   "source": [
    "fig = plt.figure(figsize=(10, 7))\n",
    "# create grid\n",
    "gs = gridspec.GridSpec(2, 2, width_ratios=[1,1])\n",
    "ax1 = plt.subplot(gs[0])\n",
    "ax2 = plt.subplot(gs[1])\n",
    "\n",
    "# add plots \n",
    "ax1.plot(a['count'])\n",
    "ax1.plot(b['count'])\n",
    "ax1.plot(c['count'])\n",
    "ax1.legend(['imdb', 'text8', 'imdbtext8'])\n",
    "ax1.set_xticks(range(len(a)))\n",
    "ax1.set_xticklabels(a.char);\n",
    "ax1.set_title('Letters frequencies ordered alphabetically')\n",
    "ax1.set_ylabel('10 million')\n",
    "ax1.grid()\n",
    "\n",
    "\n",
    "ax2.plot(df_CHR_imdb['count'])\n",
    "ax2.plot(df_CHR_t8['count'])\n",
    "ax2.plot(df_CHR_db8['count'])\n",
    "ax2.legend(['imdb', 'text8', 'imdbtext8'])\n",
    "ax2.set_xticks(range(len(df_CHR_imdb)))\n",
    "ax2.set_xticklabels(df_CHR_imdb.char)\n",
    "ax2.set_ylabel('10 million')\n",
    "ax2.set_title('Letters frequencies ordered by frequency')\n",
    "ax2.grid()\n",
    "plt.savefig('../w2v-eval/img/cp-letter-freq.png', dpi=300, bbox_inches='tight')"
   ]
  },
  {
   "cell_type": "markdown",
   "metadata": {},
   "source": [
    "---\n",
    "\n",
    "NEXT\n",
    "\n",
    "---"
   ]
  },
  {
   "cell_type": "markdown",
   "metadata": {},
   "source": [
    "# Analyzing Embeddings Accuracy"
   ]
  },
  {
   "cell_type": "markdown",
   "metadata": {},
   "source": [
    "### Models vectors quality\n",
    "First, parse the eval--.txt files (n the result folder) to extract the accuracy results of each model."
   ]
  },
  {
   "cell_type": "code",
   "execution_count": 81,
   "metadata": {
    "collapsed": true
   },
   "outputs": [],
   "source": [
    "models_acc = {}\n",
    "fldr = 'results/'\n",
    "files = os.listdir(fldr)\n",
    "for f in files:\n",
    "    if f.startswith('eval') and f.endswith('.txt') and not f.startswith('eval1-imdb-') and not f.endswith('no-threshold.txt'):\n",
    "        lines = open(fldr + f).readlines()\n",
    "        for line in lines:\n",
    "            if line.startswith('Questions seen / total:'):\n",
    "                model_name = ''.join(f.split('-')[1:]).replace('.txt', '')\n",
    "                results = line.split('total:')[-1].split()[:-1]\n",
    "                models_acc[model_name] = results\n",
    "                #print model_name, results"
   ]
  },
  {
   "cell_type": "code",
   "execution_count": 82,
   "metadata": {
    "collapsed": false
   },
   "outputs": [
    {
     "data": {
      "text/plain": [
       "{'googleNews': ['13190', '19544', '67.49'],\n",
       " 'imdb': ['10505', '19544', '53.75'],\n",
       " 'imdbtext8': ['12448', '19544', '63.69'],\n",
       " 'text8': ['12268', '19544', '62.77']}"
      ]
     },
     "execution_count": 82,
     "metadata": {},
     "output_type": "execute_result"
    }
   ],
   "source": [
    "models_acc"
   ]
  },
  {
   "cell_type": "markdown",
   "metadata": {},
   "source": [
    "#### Convert as a dataframe"
   ]
  },
  {
   "cell_type": "code",
   "execution_count": 83,
   "metadata": {
    "collapsed": true
   },
   "outputs": [],
   "source": [
    "acc_df = pd.DataFrame.from_dict(models_acc, orient='index')\n",
    "acc_df.columns = ['questions_seen','total_question','percentage_seen']\n",
    "for c in acc_df:\n",
    "    acc_df[c] = acc_df[c].apply(float)\n",
    "del acc_df['total_question']\n",
    "acc_df = acc_df.astype(float)\n",
    "acc_df = acc_df.reindex(['googleNews', 'imdb', 'imdbtext8', 'text8'])"
   ]
  },
  {
   "cell_type": "code",
   "execution_count": 84,
   "metadata": {
    "collapsed": false
   },
   "outputs": [
    {
     "data": {
      "text/html": [
       "<div>\n",
       "<table border=\"1\" class=\"dataframe\">\n",
       "  <thead>\n",
       "    <tr style=\"text-align: right;\">\n",
       "      <th></th>\n",
       "      <th>questions_seen</th>\n",
       "      <th>percentage_seen</th>\n",
       "    </tr>\n",
       "  </thead>\n",
       "  <tbody>\n",
       "    <tr>\n",
       "      <th>googleNews</th>\n",
       "      <td>13190</td>\n",
       "      <td>67.49</td>\n",
       "    </tr>\n",
       "    <tr>\n",
       "      <th>imdb</th>\n",
       "      <td>10505</td>\n",
       "      <td>53.75</td>\n",
       "    </tr>\n",
       "    <tr>\n",
       "      <th>imdbtext8</th>\n",
       "      <td>12448</td>\n",
       "      <td>63.69</td>\n",
       "    </tr>\n",
       "    <tr>\n",
       "      <th>text8</th>\n",
       "      <td>12268</td>\n",
       "      <td>62.77</td>\n",
       "    </tr>\n",
       "  </tbody>\n",
       "</table>\n",
       "</div>"
      ],
      "text/plain": [
       "            questions_seen  percentage_seen\n",
       "googleNews           13190            67.49\n",
       "imdb                 10505            53.75\n",
       "imdbtext8            12448            63.69\n",
       "text8                12268            62.77"
      ]
     },
     "execution_count": 84,
     "metadata": {},
     "output_type": "execute_result"
    }
   ],
   "source": [
    "# questions seen\n",
    "acc_df"
   ]
  },
  {
   "cell_type": "code",
   "execution_count": 85,
   "metadata": {
    "collapsed": false
   },
   "outputs": [
    {
     "data": {
      "text/plain": [
       "<matplotlib.legend.Legend at 0x11465bbd0>"
      ]
     },
     "execution_count": 85,
     "metadata": {},
     "output_type": "execute_result"
    },
    {
     "data": {
      "image/png": "[encoded data removed]",
      "text/plain": [
       "<matplotlib.figure.Figure at 0x114b5dd90>"
      ]
     },
     "metadata": {},
     "output_type": "display_data"
    }
   ],
   "source": [
    "fig, axes = plt.subplots(nrows=1, ncols=2, figsize=(6, 2))\n",
    "\n",
    "a = acc_df.T[:1].plot.bar(ax=axes[0], grid=True, legend=False, xticks=[], title='No. of questions seen / 19544')\n",
    "a.set_xlabel('a)')\n",
    "# a.set_ylim(0,20000)\n",
    "# a.set_ylabel('No. of question seen / 19544')\n",
    "\n",
    "\n",
    "b = acc_df.T[1:2].plot.bar(ax=axes[1], grid=True, xticks=[], title='Percent of total questions seen')\n",
    "b.set_xlabel('b)')\n",
    "# b.set_ylim(0,100)\n",
    "b.legend(bbox_to_anchor= (0.2,0.6))\n",
    "\n",
    "# b.set_ylabel('Accuracy %')\n",
    "# fig.savefig('../w2v-eval/img/em-questions.png', dpi=300)"
   ]
  },
  {
   "cell_type": "markdown",
   "metadata": {},
   "source": [
    "---"
   ]
  },
  {
   "cell_type": "markdown",
   "metadata": {},
   "source": [
    "Parse the detailed topic accuracy of each models"
   ]
  },
  {
   "cell_type": "code",
   "execution_count": 86,
   "metadata": {
    "collapsed": false
   },
   "outputs": [
    {
     "data": {
      "text/plain": [
       "14"
      ]
     },
     "execution_count": 86,
     "metadata": {},
     "output_type": "execute_result"
    }
   ],
   "source": [
    "topics = ('capital-common-countries', \n",
    "          'capital-world',\n",
    "          'city-in-state',\n",
    "          'currency',\n",
    "          'family',\n",
    "          'gram1-adjective-to-adverb',\n",
    "          'gram2-opposite',\n",
    "          'gram3-comparative',\n",
    "          'gram4-superlative',\n",
    "          'gram5-present-participle',\n",
    "          'gram6-nationality-adjective',\n",
    "          'gram7-past-tense',\n",
    "          'gram8-plural',\n",
    "          'gram9-plural-verbs'\n",
    "         )\n",
    "len(topics)"
   ]
  },
  {
   "cell_type": "code",
   "execution_count": 87,
   "metadata": {
    "collapsed": true
   },
   "outputs": [],
   "source": [
    "accuracies = {}\n",
    "fldr = 'results/'\n",
    "files = os.listdir(fldr)\n",
    "\n",
    "for f in files:\n",
    "    if f.startswith('eval') and f.endswith('.txt'):# and not f.startswith('eval1-imdb-'):\n",
    "        fname = fldr + f\n",
    "        model_name = ''.join(f.split('-')[1:]).replace('.txt', '')\n",
    "        accuracies[model_name] = {}\n",
    "        with open(fname) as f:\n",
    "            try:\n",
    "                header = next(f)\n",
    "            except StopIteration as e: \n",
    "                print \"File is empty\"\n",
    "            for line in f:\n",
    "                if line.startswith(topics):\n",
    "                    topic = line.split(':')[0]\n",
    "                  \n",
    "                    # ACCURACY TOP1:\n",
    "                    acc_top = next(f)\n",
    "                    acc_top = acc_top.split(':')[-1]\n",
    "                    acc_top = acc_top.split('%')\n",
    "                    acc_top = [s.strip() for s in acc_top]\n",
    "                    # Total accuracy\n",
    "                    tot_acc = next(f)\n",
    "                    tot_acc = tot_acc.split('Total accuracy:')[-1].split('%')[:-1]\n",
    "                    tot_acc = [s.strip() for s in tot_acc]\n",
    "                    \n",
    "                    accuracies[model_name][topic] = acc_top, tot_acc\n"
   ]
  },
  {
   "cell_type": "markdown",
   "metadata": {},
   "source": [
    "#### Collect {model: {topic: accuracy}"
   ]
  },
  {
   "cell_type": "code",
   "execution_count": 88,
   "metadata": {
    "collapsed": true
   },
   "outputs": [],
   "source": [
    "topic_accurcies = {}\n",
    "for k, v in accuracies.items():\n",
    "    topic_accurcies[k] = {}\n",
    "    for kk, vv in v.items():\n",
    "        topic_accurcies[k][kk] = vv[1][0]"
   ]
  },
  {
   "cell_type": "markdown",
   "metadata": {},
   "source": [
    "#### Convert to a dataframe"
   ]
  },
  {
   "cell_type": "code",
   "execution_count": 89,
   "metadata": {
    "collapsed": true
   },
   "outputs": [],
   "source": [
    "df = pd.DataFrame.from_dict(topic_accurcies, orient='index')\n",
    "# df columns to float\n",
    "for c in df:\n",
    "    df[c] = df[c].apply(float)"
   ]
  },
  {
   "cell_type": "code",
   "execution_count": 92,
   "metadata": {
    "collapsed": false
   },
   "outputs": [
    {
     "data": {
      "text/plain": [
       "<matplotlib.legend.Legend at 0x1141a7510>"
      ]
     },
     "execution_count": 92,
     "metadata": {},
     "output_type": "execute_result"
    },
    {
     "data": {
      "image/png": "[encoded data removed]",
      "text/plain": [
       "<matplotlib.figure.Figure at 0x1158ffc10>"
      ]
     },
     "metadata": {},
     "output_type": "display_data"
    }
   ],
   "source": [
    "ax = df.T.plot.barh(figsize=(7,10), grid=True)\n",
    "ax.legend(loc='lower left')\n",
    "# plt.savefig('../w2v-eval/img/em-topics-acc.png', dpi=300, bbox_inches='tight')"
   ]
  },
  {
   "cell_type": "markdown",
   "metadata": {},
   "source": [
    "#### Add OVERALL accuracy"
   ]
  },
  {
   "cell_type": "code",
   "execution_count": 98,
   "metadata": {
    "collapsed": true
   },
   "outputs": [],
   "source": [
    "import numpy as np\n",
    "def comput_overall(df):\n",
    "    return df.apply(np.sum, axis=1) / len(df.columns)"
   ]
  },
  {
   "cell_type": "code",
   "execution_count": 99,
   "metadata": {
    "collapsed": false
   },
   "outputs": [],
   "source": [
    "# add new columns (overall_acc) as the average accuracy of all topics for each model\n",
    "df_overall = pd.DataFrame()\n",
    "df_overall['OVERALL'] = np.round( comput_overall(df), decimals=2)"
   ]
  },
  {
   "cell_type": "code",
   "execution_count": 100,
   "metadata": {
    "collapsed": false
   },
   "outputs": [
    {
     "data": {
      "text/html": [
       "<div>\n",
       "<table border=\"1\" class=\"dataframe\">\n",
       "  <thead>\n",
       "    <tr style=\"text-align: right;\">\n",
       "      <th></th>\n",
       "      <th>OVERALL</th>\n",
       "    </tr>\n",
       "  </thead>\n",
       "  <tbody>\n",
       "    <tr>\n",
       "      <th>googleNews</th>\n",
       "      <td>76.85</td>\n",
       "    </tr>\n",
       "    <tr>\n",
       "      <th>imdb</th>\n",
       "      <td>33.41</td>\n",
       "    </tr>\n",
       "    <tr>\n",
       "      <th>imdbtext8</th>\n",
       "      <td>59.89</td>\n",
       "    </tr>\n",
       "    <tr>\n",
       "      <th>text8</th>\n",
       "      <td>53.60</td>\n",
       "    </tr>\n",
       "  </tbody>\n",
       "</table>\n",
       "</div>"
      ],
      "text/plain": [
       "            OVERALL\n",
       "googleNews    76.85\n",
       "imdb          33.41\n",
       "imdbtext8     59.89\n",
       "text8         53.60"
      ]
     },
     "execution_count": 100,
     "metadata": {},
     "output_type": "execute_result"
    }
   ],
   "source": [
    "df_overall"
   ]
  },
  {
   "cell_type": "markdown",
   "metadata": {},
   "source": [
    "#### append OVERALL accuracy"
   ]
  },
  {
   "cell_type": "code",
   "execution_count": null,
   "metadata": {
    "collapsed": true
   },
   "outputs": [],
   "source": [
    "acc_df['overall_acc'] = df_overall.OVERALL"
   ]
  },
  {
   "cell_type": "code",
   "execution_count": null,
   "metadata": {
    "collapsed": false
   },
   "outputs": [],
   "source": [
    "acc_df"
   ]
  },
  {
   "cell_type": "markdown",
   "metadata": {},
   "source": [
    "Overall Embeddings Results"
   ]
  },
  {
   "cell_type": "code",
   "execution_count": null,
   "metadata": {
    "collapsed": false
   },
   "outputs": [],
   "source": [
    "fig, axes = plt.subplots(nrows=1,ncols=3, figsize=(15,4))\n",
    "\n",
    "a = df.T.plot.box(ax=axes[0], title='a)   Scores of the 14 topics boxplot', grid=True)\n",
    "a.set_ylim(10,100)\n",
    "a.set_xticklabels(df.index, rotation=20)\n",
    "\n",
    "c = df.T.plot.density(ax=axes[1], title='b)   Topic scores density', grid=True)\n",
    "\n",
    "b = df_overall.plot.bar(ax=axes[2], legend=False, title='c)   Overall average score of all topics', grid=True)\n",
    "b.set_ylim(10,100)\n",
    "b.set_xticklabels(df_overall.index, rotation=20)\n",
    "\n",
    "fig.savefig('../w2v-eval/img/em-overall.png', dpi=300)#, bbox_to_inch='tight')"
   ]
  },
  {
   "cell_type": "markdown",
   "metadata": {},
   "source": [
    "Display scored accuracy for each topic "
   ]
  },
  {
   "cell_type": "code",
   "execution_count": null,
   "metadata": {
    "collapsed": false
   },
   "outputs": [],
   "source": [
    "print 'MODEL: ACCURACY'\n",
    "print '\\tSCORE TOPIC'\n",
    "for k, v in topic_accurcies.items():\n",
    "    print k+':',\n",
    "    tot = sum([float(vv) for kk, vv in v.items()])\n",
    "    tot = '{:.2f}'.format(tot / 14)\n",
    "    print tot\n",
    "    for k, v in v.items():\n",
    "        print '\\t', v, k"
   ]
  },
  {
   "cell_type": "markdown",
   "metadata": {},
   "source": [
    "#### Detailed accuracy (question seen and topic score)"
   ]
  },
  {
   "cell_type": "code",
   "execution_count": null,
   "metadata": {
    "collapsed": false
   },
   "outputs": [],
   "source": [
    "print '\\ttot-acc [top-acc, (seen/question)] topic'\n",
    "for k, v in accuracies.items():\n",
    "    print k\n",
    "    for k, v in v.items():\n",
    "        print '\\t', v[1][0], v[0], '', k"
   ]
  },
  {
   "cell_type": "markdown",
   "metadata": {},
   "source": [
    "---\n",
    "\n",
    "NEXT \n",
    "\n",
    "---"
   ]
  },
  {
   "cell_type": "markdown",
   "metadata": {},
   "source": [
    "# Analyzing Sentiment Classifiers Accuracy"
   ]
  },
  {
   "cell_type": "code",
   "execution_count": 4,
   "metadata": {
    "collapsed": true
   },
   "outputs": [],
   "source": [
    "import json\n",
    "with open('sentiment-results.json', 'r') as handle:\n",
    "    parsed_dict = json.load(handle)"
   ]
  },
  {
   "cell_type": "code",
   "execution_count": 5,
   "metadata": {
    "collapsed": true
   },
   "outputs": [],
   "source": [
    "# read result file\n",
    "sent_df = pd.DataFrame.from_dict(parsed_dict)#, orient='index')"
   ]
  },
  {
   "cell_type": "markdown",
   "metadata": {},
   "source": [
    "parsing classifiers scores only (without pos / neg count)"
   ]
  },
  {
   "cell_type": "code",
   "execution_count": 7,
   "metadata": {
    "collapsed": false
   },
   "outputs": [
    {
     "name": "stdout",
     "output_type": "stream",
     "text": [
      "imdb-text8\n",
      "\tSGDClassifier 85.50%\n",
      "\tLinearSVC 89.12%\n",
      "\tPerceptron 80.11%\n",
      "\tLogisticRegressionCV 89.08%\n",
      "\tRandomForestClassifier 83.94%\n",
      "imdb\n",
      "\tSGDClassifier 86.49%\n",
      "\tLinearSVC 89.20%\n",
      "\tPerceptron 84.29%\n",
      "\tLogisticRegressionCV 89.19%\n",
      "\tRandomForestClassifier 84.47%\n",
      "text8\n",
      "\tSGDClassifier 75.44%\n",
      "\tLinearSVC 81.17%\n",
      "\tPerceptron 76.62%\n",
      "\tLogisticRegressionCV 81.22%\n",
      "\tRandomForestClassifier 74.26%\n",
      "GoogleNews\n",
      "\tSGDClassifier 82.89%\n",
      "\tLinearSVC 86.14%\n",
      "\tPerceptron 78.94%\n",
      "\tLogisticRegressionCV 86.08%\n",
      "\tRandomForestClassifier 79.90%\n"
     ]
    }
   ],
   "source": [
    "score_dict = {}\n",
    "for k, v in parsed_dict.items():\n",
    "    print k\n",
    "    score_dict[k] = {}\n",
    "    for kk, vv in v.items():\n",
    "        score_dict[k][kk] = vv[0]\n",
    "        print '\\t', kk, vv[0]"
   ]
  },
  {
   "cell_type": "markdown",
   "metadata": {},
   "source": [
    "parsing positive count only (without score and neg count)"
   ]
  },
  {
   "cell_type": "code",
   "execution_count": 8,
   "metadata": {
    "collapsed": false
   },
   "outputs": [],
   "source": [
    "pos_dict = {}\n",
    "for k, v in parsed_dict.items():\n",
    "    pos_dict[k] = {}\n",
    "    for kk, vv in v.items():\n",
    "        pos_dict[k][kk] = vv[1]"
   ]
  },
  {
   "cell_type": "markdown",
   "metadata": {},
   "source": [
    "parsing negative count only (without score and neg count)"
   ]
  },
  {
   "cell_type": "code",
   "execution_count": 9,
   "metadata": {
    "collapsed": false
   },
   "outputs": [],
   "source": [
    "neg_dict = {}\n",
    "for k, v in parsed_dict.items():\n",
    "    neg_dict[k] = {}\n",
    "    for kk, vv in v.items():\n",
    "        neg_dict[k][kk] = vv[2]"
   ]
  },
  {
   "cell_type": "code",
   "execution_count": 10,
   "metadata": {
    "collapsed": true
   },
   "outputs": [],
   "source": [
    "# CLASSIFIERS score in a dataframe\n",
    "clf_df = pd.DataFrame.from_dict(score_dict)#, orient='index')\n",
    "clf_df = clf_df.replace('%', '', regex=True) # remove % sign \n",
    "clf_df = clf_df.astype(float) # make dataframe numeric data "
   ]
  },
  {
   "cell_type": "code",
   "execution_count": 11,
   "metadata": {
    "collapsed": false
   },
   "outputs": [
    {
     "data": {
      "text/html": [
       "<div>\n",
       "<table border=\"1\" class=\"dataframe\">\n",
       "  <thead>\n",
       "    <tr style=\"text-align: right;\">\n",
       "      <th></th>\n",
       "      <th>GoogleNews</th>\n",
       "      <th>imdb</th>\n",
       "      <th>imdb-text8</th>\n",
       "      <th>text8</th>\n",
       "    </tr>\n",
       "  </thead>\n",
       "  <tbody>\n",
       "    <tr>\n",
       "      <th>LinearSVC</th>\n",
       "      <td>86.14</td>\n",
       "      <td>89.20</td>\n",
       "      <td>89.12</td>\n",
       "      <td>81.17</td>\n",
       "    </tr>\n",
       "    <tr>\n",
       "      <th>LogisticRegressionCV</th>\n",
       "      <td>86.08</td>\n",
       "      <td>89.19</td>\n",
       "      <td>89.08</td>\n",
       "      <td>81.22</td>\n",
       "    </tr>\n",
       "    <tr>\n",
       "      <th>Perceptron</th>\n",
       "      <td>78.94</td>\n",
       "      <td>84.29</td>\n",
       "      <td>80.11</td>\n",
       "      <td>76.62</td>\n",
       "    </tr>\n",
       "    <tr>\n",
       "      <th>RandomForestClassifier</th>\n",
       "      <td>79.90</td>\n",
       "      <td>84.47</td>\n",
       "      <td>83.94</td>\n",
       "      <td>74.26</td>\n",
       "    </tr>\n",
       "    <tr>\n",
       "      <th>SGDClassifier</th>\n",
       "      <td>82.89</td>\n",
       "      <td>86.49</td>\n",
       "      <td>85.50</td>\n",
       "      <td>75.44</td>\n",
       "    </tr>\n",
       "  </tbody>\n",
       "</table>\n",
       "</div>"
      ],
      "text/plain": [
       "                        GoogleNews   imdb  imdb-text8  text8\n",
       "LinearSVC                    86.14  89.20       89.12  81.17\n",
       "LogisticRegressionCV         86.08  89.19       89.08  81.22\n",
       "Perceptron                   78.94  84.29       80.11  76.62\n",
       "RandomForestClassifier       79.90  84.47       83.94  74.26\n",
       "SGDClassifier                82.89  86.49       85.50  75.44"
      ]
     },
     "execution_count": 11,
     "metadata": {},
     "output_type": "execute_result"
    }
   ],
   "source": [
    "clf_df"
   ]
  },
  {
   "cell_type": "code",
   "execution_count": 14,
   "metadata": {
    "collapsed": false
   },
   "outputs": [
    {
     "data": {
      "image/png": "[encoded data removed]",
      "text/plain": [
       "<matplotlib.figure.Figure at 0x103c68310>"
      ]
     },
     "metadata": {},
     "output_type": "display_data"
    }
   ],
   "source": [
    "ax = clf_df.T.plot.bar(grid=True, title='Sentiment classifier scores', layout=(2,3))\n",
    "ax.legend(loc='upper right')\n",
    "ax.set_ylim(70,100)\n",
    "ax.set_xticklabels(clf_df.columns,rotation=10);\n",
    "# plt.savefig('../w2v-eval/img/sent-clfs-score-by-model.png', dpi=300, bbox_inches='tight')"
   ]
  },
  {
   "cell_type": "code",
   "execution_count": 16,
   "metadata": {
    "collapsed": false
   },
   "outputs": [
    {
     "data": {
      "image/png": "[encoded data removed]",
      "text/plain": [
       "<matplotlib.figure.Figure at 0x10667b0d0>"
      ]
     },
     "metadata": {},
     "output_type": "display_data"
    }
   ],
   "source": [
    "v = clf_df.plot.bar(grid=True, title='Sentiment classifier scores', layout=(2,3))\n",
    "v.legend(loc='upper right')\n",
    "v.set_ylim(70,100)\n",
    "v.set_xticklabels(list(clf_df.index),rotation=10);\n",
    "# plt.savefig('../w2v-eval/img/sent-clfs-score1.png', dpi=300, bbox_inches='tight')"
   ]
  },
  {
   "cell_type": "code",
   "execution_count": 17,
   "metadata": {
    "collapsed": false
   },
   "outputs": [
    {
     "data": {
      "image/png": "[encoded data removed]",
      "text/plain": [
       "<matplotlib.figure.Figure at 0x106a130d0>"
      ]
     },
     "metadata": {},
     "output_type": "display_data"
    }
   ],
   "source": [
    "fig, axes = plt.subplots(nrows=2,ncols=1, figsize=(6,10))\n",
    "\n",
    "\n",
    "m = clf_df.T.plot.barh(ax=axes[0], grid=True, title='a)  Sentiment classifier scores')\n",
    "m.legend(loc='upper right')\n",
    "m.set_xlim(70,95)\n",
    "m.set_yticklabels(clf_df.columns,rotation=0);\n",
    "\n",
    "v = clf_df.plot.bar(ax=axes[1], grid=True, title='b)')\n",
    "v.legend(loc='upper right')\n",
    "v.set_ylim(70,95)\n",
    "v.set_xticklabels(list(clf_df.index),rotation=20);\n",
    "\n",
    "# plt.savefig('../w2v-eval/img/sent-clfs-score3.png', dpi=300, bbox_inches='tight')"
   ]
  },
  {
   "cell_type": "markdown",
   "metadata": {},
   "source": [
    "---\n",
    "\n",
    "NEXT\n",
    "\n",
    "---"
   ]
  },
  {
   "cell_type": "markdown",
   "metadata": {},
   "source": [
    "# Putting all it Together"
   ]
  },
  {
   "cell_type": "code",
   "execution_count": 58,
   "metadata": {
    "collapsed": false
   },
   "outputs": [],
   "source": [
    "clf_all = clf_df.T.copy()"
   ]
  },
  {
   "cell_type": "code",
   "execution_count": 59,
   "metadata": {
    "collapsed": false
   },
   "outputs": [
    {
     "data": {
      "text/html": [
       "<div>\n",
       "<table border=\"1\" class=\"dataframe\">\n",
       "  <thead>\n",
       "    <tr style=\"text-align: right;\">\n",
       "      <th></th>\n",
       "      <th>LinearSVC</th>\n",
       "      <th>LogisticRegressionCV</th>\n",
       "      <th>Perceptron</th>\n",
       "      <th>RandomForestClassifier</th>\n",
       "      <th>SGDClassifier</th>\n",
       "    </tr>\n",
       "  </thead>\n",
       "  <tbody>\n",
       "    <tr>\n",
       "      <th>GoogleNews</th>\n",
       "      <td>86.14</td>\n",
       "      <td>86.08</td>\n",
       "      <td>78.94</td>\n",
       "      <td>79.90</td>\n",
       "      <td>82.89</td>\n",
       "    </tr>\n",
       "    <tr>\n",
       "      <th>imdb</th>\n",
       "      <td>89.20</td>\n",
       "      <td>89.19</td>\n",
       "      <td>84.29</td>\n",
       "      <td>84.47</td>\n",
       "      <td>86.49</td>\n",
       "    </tr>\n",
       "    <tr>\n",
       "      <th>imdb-text8</th>\n",
       "      <td>89.12</td>\n",
       "      <td>89.08</td>\n",
       "      <td>80.11</td>\n",
       "      <td>83.94</td>\n",
       "      <td>85.50</td>\n",
       "    </tr>\n",
       "    <tr>\n",
       "      <th>text8</th>\n",
       "      <td>81.17</td>\n",
       "      <td>81.22</td>\n",
       "      <td>76.62</td>\n",
       "      <td>74.26</td>\n",
       "      <td>75.44</td>\n",
       "    </tr>\n",
       "  </tbody>\n",
       "</table>\n",
       "</div>"
      ],
      "text/plain": [
       "            LinearSVC  LogisticRegressionCV  Perceptron  \\\n",
       "GoogleNews      86.14                 86.08       78.94   \n",
       "imdb            89.20                 89.19       84.29   \n",
       "imdb-text8      89.12                 89.08       80.11   \n",
       "text8           81.17                 81.22       76.62   \n",
       "\n",
       "            RandomForestClassifier  SGDClassifier  \n",
       "GoogleNews                   79.90          82.89  \n",
       "imdb                         84.47          86.49  \n",
       "imdb-text8                   83.94          85.50  \n",
       "text8                        74.26          75.44  "
      ]
     },
     "execution_count": 59,
     "metadata": {},
     "output_type": "execute_result"
    }
   ],
   "source": [
    "clf_all"
   ]
  },
  {
   "cell_type": "code",
   "execution_count": 63,
   "metadata": {
    "collapsed": false
   },
   "outputs": [
    {
     "data": {
      "text/plain": [
       "GoogleNews    82.790\n",
       "imdb          86.728\n",
       "imdb-text8    85.550\n",
       "text8         77.742\n",
       "dtype: float64"
      ]
     },
     "execution_count": 63,
     "metadata": {},
     "output_type": "execute_result"
    }
   ],
   "source": [
    "clf_df.apply(np.average , axis=0)"
   ]
  },
  {
   "cell_type": "code",
   "execution_count": 64,
   "metadata": {
    "collapsed": false
   },
   "outputs": [],
   "source": [
    "clf_all['overall'] = clf_df.apply(np.average , axis=0)"
   ]
  },
  {
   "cell_type": "code",
   "execution_count": 45,
   "metadata": {
    "collapsed": false
   },
   "outputs": [
    {
     "name": "stdout",
     "output_type": "stream",
     "text": [
      "GoogleNews       82.790\n",
      "imdb             86.728\n",
      "imdb-text8       85.550\n",
      "text8            77.742\n",
      "overall_score       NaN\n",
      "dtype: float64\n"
     ]
    }
   ],
   "source": [
    "print clf_df.apply(np.average , axis=0)"
   ]
  },
  {
   "cell_type": "code",
   "execution_count": 54,
   "metadata": {
    "collapsed": false
   },
   "outputs": [],
   "source": [
    "# del clf_df['overall']"
   ]
  },
  {
   "cell_type": "code",
   "execution_count": 72,
   "metadata": {
    "collapsed": false
   },
   "outputs": [
    {
     "name": "stdout",
     "output_type": "stream",
     "text": [
      "82.79%\n",
      "86.73%\n",
      "85.55%\n",
      "77.74%\n"
     ]
    }
   ],
   "source": [
    "for x in clf_all['overall'].tolist():\n",
    "    print '{:.2f}%'.format(x)"
   ]
  },
  {
   "cell_type": "markdown",
   "metadata": {},
   "source": [
    "Show three things together:\n",
    "\n",
    "1. model accuracy\n",
    "2. average retrieval error\n",
    "3. sentiment results"
   ]
  },
  {
   "cell_type": "markdown",
   "metadata": {},
   "source": [
    "| Embeddings | vocab. size | AVG. retrieval err. | AVG. similarity acc. | AVG. sentiment score |\n",
    "|:-----------|:------------|:-------------------:|:--------------------:|:--------------------:|\n",
    "| imdb       | 53,195      |        1.46         |        33.41%        |      **86.73%**      |\n",
    "| text8      | 71,291      |        4.62         |        53.60%        |        77.74%        |\n",
    "| imdb-text8 | 94,158      |      **0.99**       |        59.89%        |        85.55%        |\n",
    "| GoogleNews | **3M**      |        28.04        |      **76.85%**      |        82.79%        |\n",
    "\n",
    "<center>Table: Summary on the final the results.</center>\n"
   ]
  }
 ],
 "metadata": {
  "kernelspec": {
   "display_name": "Python 2",
   "language": "python",
   "name": "python2"
  },
  "language_info": {
   "codemirror_mode": {
    "name": "ipython",
    "version": 2
   },
   "file_extension": ".py",
   "mimetype": "text/x-python",
   "name": "python",
   "nbconvert_exporter": "python",
   "pygments_lexer": "ipython2",
   "version": "2.7.11"
  },
  "widgets": {
   "state": {},
   "version": "1.1.1"
  }
 },
 "nbformat": 4,
 "nbformat_minor": 0
}
