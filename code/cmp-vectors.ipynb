{
 "cells": [
  {
   "cell_type": "markdown",
   "metadata": {},
   "source": [
    "#### Comparing the quality of vectors embedding\n",
    "Task-specific model (IMDB) vs. general model (GoogleNews)"
   ]
  },
  {
   "cell_type": "markdown",
   "metadata": {},
   "source": [
    "modify the paper's title to match this claim: e.g.<br>\n",
    "**Unsupervised Word Embedding Evaluation, Accuracy Does not Imply Better Performance**"
   ]
  },
  {
   "cell_type": "markdown",
   "metadata": {},
   "source": [
    "##### Paper statement:"
   ]
  },
  {
   "cell_type": "markdown",
   "metadata": {},
   "source": [
    "Using the current word embedding evaluation methods, *Accuracy* and *More Vocabulary* do not imply better performance. Why?\n",
    "\n",
    "From the results of our experiments, in this notebook, we will explain and justify this claim.\n",
    "\n",
    "- We show that GoogleNews model has the following two advantages over IMDB model. First, it scores way better accuracy (74.26%) in comparison to the 23.71% of IMBD model; second, it contains 3 million vocabulary while IMDB contains around 19,000. \n",
    "\n",
    "Yet, the sentiment classifiers perform worse with GoogleNews's embedding than IMDB embedding."
   ]
  },
  {
   "cell_type": "markdown",
   "metadata": {},
   "source": [
    "related work: [Evaluation methods for unsupervised word embeddings](http://www.aclweb.org/anthology/D15-1036) ACL 2015"
   ]
  },
  {
   "cell_type": "markdown",
   "metadata": {},
   "source": [
    "**load models**"
   ]
  },
  {
   "cell_type": "code",
   "execution_count": 2,
   "metadata": {
    "collapsed": false
   },
   "outputs": [],
   "source": [
    "from gensim.models import Word2Vec as w2v"
   ]
  },
  {
   "cell_type": "code",
   "execution_count": 29,
   "metadata": {
    "collapsed": true
   },
   "outputs": [],
   "source": [
    "imdb1 = w2v.load('300dim_40mwords_10context_imdb-75K')"
   ]
  },
  {
   "cell_type": "code",
   "execution_count": 30,
   "metadata": {
    "collapsed": true
   },
   "outputs": [],
   "source": [
    "imdb = w2v.load('300dim_40mwords_10context_imdb-100K')"
   ]
  },
  {
   "cell_type": "code",
   "execution_count": 7,
   "metadata": {
    "collapsed": false
   },
   "outputs": [],
   "source": [
    "gmodel = '~/Downloads/word2vec-models/GoogleNews-vectors-negative300.bin.gz'\n",
    "google = w2v.load_word2vec_format(gmodel, binary=True)"
   ]
  },
  {
   "cell_type": "code",
   "execution_count": 31,
   "metadata": {
    "collapsed": true
   },
   "outputs": [],
   "source": [
    "# save memory\n",
    "imdb1.init_sims(replace=True)\n",
    "imdb.init_sims(replace=True)\n",
    "google.init_sims(replace=True)"
   ]
  },
  {
   "cell_type": "markdown",
   "metadata": {},
   "source": [
    "**compare**"
   ]
  },
  {
   "cell_type": "code",
   "execution_count": 33,
   "metadata": {
    "collapsed": false
   },
   "outputs": [
    {
     "name": "stdout",
     "output_type": "stream",
     "text": [
      "19279 3000000\n"
     ]
    }
   ],
   "source": [
    "# vocab size\n",
    "print len(imdb.index2word), len(google.index2word)"
   ]
  },
  {
   "cell_type": "markdown",
   "metadata": {},
   "source": [
    "Should be far"
   ]
  },
  {
   "cell_type": "code",
   "execution_count": 34,
   "metadata": {
    "collapsed": false
   },
   "outputs": [
    {
     "name": "stdout",
     "output_type": "stream",
     "text": [
      "0.387899837952 0.540498356616\n"
     ]
    }
   ],
   "source": [
    "p1,p2 = ['awful', 'awesome']\n",
    "print imdb.similarity(p1,p2), google.similarity(p1,p2)"
   ]
  },
  {
   "cell_type": "code",
   "execution_count": 35,
   "metadata": {
    "collapsed": false
   },
   "outputs": [
    {
     "name": "stdout",
     "output_type": "stream",
     "text": [
      "0.554278814732 0.719005120697\n"
     ]
    }
   ],
   "source": [
    "p1,p2 = ['good', 'bad']\n",
    "print imdb.similarity(p1,p2), google.similarity(p1,p2)"
   ]
  },
  {
   "cell_type": "code",
   "execution_count": 47,
   "metadata": {
    "collapsed": false
   },
   "outputs": [
    {
     "name": "stdout",
     "output_type": "stream",
     "text": [
      "0.272928803607 0.447897488685\n"
     ]
    }
   ],
   "source": [
    "p1,p2 = ['terrific', 'horrible']\n",
    "print imdb.similarity(p1,p2), google.similarity(p1,p2)"
   ]
  },
  {
   "cell_type": "markdown",
   "metadata": {},
   "source": [
    "should be close "
   ]
  },
  {
   "cell_type": "code",
   "execution_count": 36,
   "metadata": {
    "collapsed": false
   },
   "outputs": [
    {
     "name": "stdout",
     "output_type": "stream",
     "text": [
      "0.650272230521 0.828286540622\n"
     ]
    }
   ],
   "source": [
    "p1,p2 = ['amazing', 'awesome']\n",
    "print imdb.similarity(p1,p2), google.similarity(p1,p2)"
   ]
  },
  {
   "cell_type": "code",
   "execution_count": 41,
   "metadata": {
    "collapsed": false
   },
   "outputs": [
    {
     "name": "stdout",
     "output_type": "stream",
     "text": [
      "0.357771842178 0.477194268917\n"
     ]
    }
   ],
   "source": [
    "p1,p2 = ['amazing', 'good']\n",
    "print imdb.similarity(p1,p2), google.similarity(p1,p2)"
   ]
  },
  {
   "cell_type": "code",
   "execution_count": 39,
   "metadata": {
    "collapsed": false
   },
   "outputs": [
    {
     "name": "stdout",
     "output_type": "stream",
     "text": [
      "0.258663229973 0.526317304596\n"
     ]
    }
   ],
   "source": [
    "p1,p2 = ['bad', 'ugly']\n",
    "print imdb.similarity(p1,p2), google.similarity(p1,p2)"
   ]
  },
  {
   "cell_type": "code",
   "execution_count": 46,
   "metadata": {
    "collapsed": false
   },
   "outputs": [
    {
     "name": "stdout",
     "output_type": "stream",
     "text": [
      "0.642428307458 0.793521123784\n"
     ]
    }
   ],
   "source": [
    "p1,p2 = ['great', 'fantastic']\n",
    "print imdb.similarity(p1,p2), google.similarity(p1,p2)"
   ]
  }
 ],
 "metadata": {
  "kernelspec": {
   "display_name": "Python 2",
   "language": "python",
   "name": "python2"
  },
  "language_info": {
   "codemirror_mode": {
    "name": "ipython",
    "version": 2
   },
   "file_extension": ".py",
   "mimetype": "text/x-python",
   "name": "python",
   "nbconvert_exporter": "python",
   "pygments_lexer": "ipython2",
   "version": "2.7.10"
  }
 },
 "nbformat": 4,
 "nbformat_minor": 0
}
