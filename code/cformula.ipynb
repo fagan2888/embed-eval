{
 "cells": [
  {
   "cell_type": "markdown",
   "metadata": {},
   "source": [
    "# Formulas"
   ]
  },
  {
   "cell_type": "code",
   "execution_count": 3,
   "metadata": {
    "collapsed": false
   },
   "outputs": [],
   "source": [
    "import sentiment as sen"
   ]
  },
  {
   "cell_type": "code",
   "execution_count": 4,
   "metadata": {
    "collapsed": false
   },
   "outputs": [
    {
     "data": {
      "text/plain": [
       "[['hello', 'workd', 'this', 'no'], ['sentim']]"
      ]
     },
     "execution_count": 4,
     "metadata": {},
     "output_type": "execute_result"
    }
   ],
   "source": [
    "sen.tokenize_data(['Hello workd 3 this <> no', 'sentim'])"
   ]
  },
  {
   "cell_type": "markdown",
   "metadata": {},
   "source": [
    "---"
   ]
  },
  {
   "cell_type": "markdown",
   "metadata": {},
   "source": [
    "## Average Error Factor"
   ]
  },
  {
   "cell_type": "markdown",
   "metadata": {},
   "source": [
    "    Average retrieval error = \n",
    "$$\\frac{ \\sum_{i=1}^n{missed\\_vectors_i} } { n }$$\n",
    "\n",
    "    in other words:\n",
    "\n",
    "$$\\frac{ \\sum_{i=1}^{n}({tokens_i - retrieved_i})}{ n }$$\n",
    "\n",
    "where, \n",
    "\n",
    "$tokens$: the total number of tokens in all reviews.<br>\n",
    "$retrieved$: the total number of retrieved vectors for all reviews.<br>\n",
    "$n$: the total number of reviews.\n",
    "\n",
    "\n",
    "$$\\frac{ \\sum_{i=1}^{n}Q({t_i - r_i})}{ n }$$\n",
    "\n",
    "\n",
    "$Q$: a query to the model vocabulary to return the vectors of a set of given tokens (words).<br>\n",
    "$n$: the total number of queries made.<br>\n",
    "$t$: the number of tokens in query $i$.<br>\n",
    "$r$: the number of retrieved (found) vectors for query $i$.<br>\n",
    "\n",
    "\n",
    "In simpler form, average retrieval error = \n",
    "$\\frac{ \\sum_{i=1}^n{m_i} } { n }$\n",
    "\n",
    "where $m$ is the number of missed (not found) vectors for query $i$."
   ]
  }
 ],
 "metadata": {
  "kernelspec": {
   "display_name": "Python 2",
   "language": "python",
   "name": "python2"
  },
  "language_info": {
   "codemirror_mode": {
    "name": "ipython",
    "version": 2
   },
   "file_extension": ".py",
   "mimetype": "text/x-python",
   "name": "python",
   "nbconvert_exporter": "python",
   "pygments_lexer": "ipython2",
   "version": "2.7.10"
  }
 },
 "nbformat": 4,
 "nbformat_minor": 0
}
