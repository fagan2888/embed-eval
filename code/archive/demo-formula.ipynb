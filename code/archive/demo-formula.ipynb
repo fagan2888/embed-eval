{
 "cells": [
  {
   "cell_type": "markdown",
   "metadata": {},
   "source": [
    "# Analyzing Embeddings Accuracy"
   ]
  },
  {
   "cell_type": "code",
   "execution_count": 1,
   "metadata": {
    "collapsed": false
   },
   "outputs": [],
   "source": [
    "%matplotlib inline\n",
    "import os\n",
    "import pandas as pd\n",
    "import matplotlib.pyplot as plt"
   ]
  },
  {
   "cell_type": "markdown",
   "metadata": {},
   "source": [
    "Parse the eval--.txt files (n the result folder) to extract the total accuracy of each model."
   ]
  },
  {
   "cell_type": "code",
   "execution_count": 2,
   "metadata": {
    "collapsed": false
   },
   "outputs": [],
   "source": [
    "models_acc = {}\n",
    "fldr = 'results-all/'\n",
    "files = os.listdir(fldr)\n",
    "for f in files:\n",
    "    if f.startswith('eval') and f.endswith('.txt') and not f.startswith('eval1-imdb-') and not f.endswith('no-threshold.txt'):\n",
    "        lines = open(fldr + f).readlines()\n",
    "        for line in lines:\n",
    "            if line.startswith('Questions seen / total:'):\n",
    "                model_name = ''.join(f.split('-')[1:]).replace('.txt', '')\n",
    "                results = line.split('total:')[-1].split()[:-1]\n",
    "                models_acc[model_name] = results\n",
    "                #print model_name, results"
   ]
  },
  {
   "cell_type": "code",
   "execution_count": 3,
   "metadata": {
    "collapsed": false
   },
   "outputs": [
    {
     "data": {
      "text/plain": [
       "{'googleNews': ['13190', '19544', '67.49'],\n",
       " 'imdb': ['10505', '19544', '53.75'],\n",
       " 'imdbtext8': ['12448', '19544', '63.69'],\n",
       " 'text8': ['12268', '19544', '62.77']}"
      ]
     },
     "execution_count": 3,
     "metadata": {},
     "output_type": "execute_result"
    }
   ],
   "source": [
    "models_acc"
   ]
  },
  {
   "cell_type": "markdown",
   "metadata": {},
   "source": [
    "#### Convert as a dataframe"
   ]
  },
  {
   "cell_type": "code",
   "execution_count": 138,
   "metadata": {
    "collapsed": false
   },
   "outputs": [],
   "source": [
    "acc_df = pd.DataFrame.from_dict(models_acc, orient='index')\n",
    "acc_df.columns = ['questions_seen','total_question','percentage_seen']\n",
    "for c in acc_df:\n",
    "    acc_df[c] = acc_df[c].apply(float)\n",
    "del acc_df['total_question']\n",
    "acc_df = acc_df.astype(float)\n",
    "acc_df = acc_df.reindex(['googleNews', 'imdb', 'imdbtext8', 'text8'])"
   ]
  },
  {
   "cell_type": "code",
   "execution_count": 139,
   "metadata": {
    "collapsed": false
   },
   "outputs": [
    {
     "data": {
      "text/html": [
       "<div>\n",
       "<table border=\"1\" class=\"dataframe\">\n",
       "  <thead>\n",
       "    <tr style=\"text-align: right;\">\n",
       "      <th></th>\n",
       "      <th>questions_seen</th>\n",
       "      <th>percentage_seen</th>\n",
       "    </tr>\n",
       "  </thead>\n",
       "  <tbody>\n",
       "    <tr>\n",
       "      <th>googleNews</th>\n",
       "      <td>13190</td>\n",
       "      <td>67.49</td>\n",
       "    </tr>\n",
       "    <tr>\n",
       "      <th>imdb</th>\n",
       "      <td>10505</td>\n",
       "      <td>53.75</td>\n",
       "    </tr>\n",
       "    <tr>\n",
       "      <th>imdbtext8</th>\n",
       "      <td>12448</td>\n",
       "      <td>63.69</td>\n",
       "    </tr>\n",
       "    <tr>\n",
       "      <th>text8</th>\n",
       "      <td>12268</td>\n",
       "      <td>62.77</td>\n",
       "    </tr>\n",
       "  </tbody>\n",
       "</table>\n",
       "</div>"
      ],
      "text/plain": [
       "            questions_seen  percentage_seen\n",
       "googleNews           13190            67.49\n",
       "imdb                 10505            53.75\n",
       "imdbtext8            12448            63.69\n",
       "text8                12268            62.77"
      ]
     },
     "execution_count": 139,
     "metadata": {},
     "output_type": "execute_result"
    }
   ],
   "source": [
    "# questions seen\n",
    "acc_df"
   ]
  },
  {
   "cell_type": "code",
   "execution_count": 140,
   "metadata": {
    "collapsed": false
   },
   "outputs": [
    {
     "data": {
      "image/png": "[encoded data removed]",
      "text/plain": [
       "<matplotlib.figure.Figure at 0x111c11350>"
      ]
     },
     "metadata": {},
     "output_type": "display_data"
    }
   ],
   "source": [
    "with plt.style.context(('seaborn-paper')):\n",
    "    fig, axes = plt.subplots(nrows=1, ncols=2, figsize=(6, 2))\n",
    "\n",
    "    a = acc_df.T[:1].plot.bar(ax=axes[0], grid=True, legend=False, xticks=[], title='No. of questions seen / 19544')\n",
    "    a.set_xlabel('a)')\n",
    "    # a.set_ylim(0,20000)\n",
    "    # a.set_ylabel('No. of question seen / 19544')\n",
    "    \n",
    "\n",
    "    b = acc_df.T[1:2].plot.bar(ax=axes[1], grid=True, xticks=[], title='Percent of total questions seen')\n",
    "    b.set_xlabel('b)')\n",
    "    # b.set_ylim(0,100)\n",
    "    b.legend(bbox_to_anchor= (0.2,0.6))\n",
    "\n",
    "    # b.set_ylabel('Accuracy %')\n",
    "    fig.savefig('../w2v-eval/img/questions-seen.png', dpi=300)"
   ]
  },
  {
   "cell_type": "code",
   "execution_count": null,
   "metadata": {
    "collapsed": false
   },
   "outputs": [],
   "source": [
    "# ax = acc_df.T[:1].plot.bar(grid=True, xticks=[])\n",
    "# ax.legend(bbox_to_anchor= (1.5,.2))\n",
    "# ax.set_ylabel('Number of questions seen')\n",
    "\n",
    "# bx = acc_df.T[2:3].plot.bar(grid=True, xticks=[])\n",
    "# bx.legend(loc='best')\n",
    "# bx.set_ylabel('Accuracy %')\n",
    "# bx.legend_.remove()"
   ]
  },
  {
   "cell_type": "code",
   "execution_count": 87,
   "metadata": {
    "collapsed": true
   },
   "outputs": [
    {
     "data": {
      "image/png": "[encoded data removed]",
      "text/plain": [
       "<matplotlib.figure.Figure at 0x1121cbe90>"
      ]
     },
     "metadata": {},
     "output_type": "display_data"
    }
   ],
   "source": [
    "# ax = acc_df.plot.bar(subplots=True, legend=False, grid=True, figsize=(7,3), layout=(1,2))\n",
    "# # plt.savefig('../w2v-eval/img/question-seen-threshold30K.png', dpi=300, bbox_inches='tight')"
   ]
  },
  {
   "cell_type": "markdown",
   "metadata": {},
   "source": [
    "### append OVERALL accuracy "
   ]
  },
  {
   "cell_type": "code",
   "execution_count": 132,
   "metadata": {
    "collapsed": false
   },
   "outputs": [],
   "source": [
    "acc_df['overall_acc'] = df.OVERALL"
   ]
  },
  {
   "cell_type": "code",
   "execution_count": 144,
   "metadata": {
    "collapsed": true
   },
   "outputs": [
    {
     "data": {
      "image/png": "[encoded data removed]",
      "text/plain": [
       "<matplotlib.figure.Figure at 0x10f215a90>"
      ]
     },
     "metadata": {},
     "output_type": "display_data"
    }
   ],
   "source": [
    "# ax = acc_df.plot.bar(subplots=True, legend=False, grid=True, layout=(3,1), figsize=(3,6))"
   ]
  },
  {
   "cell_type": "code",
   "execution_count": 237,
   "metadata": {
    "collapsed": false
   },
   "outputs": [],
   "source": [
    "# acc_df['questions_seen'].plot.bar(legend=False, grid=True, figsize=(3,3), layout=(1,1))\n",
    "# # ax.set_xticklabels(df.index, rotation=60);pass\n",
    "# acc_df['Total Accuracy'].plot.bar(legend=False, grid=True, figsize=(3,3), layout=(2,1))\n",
    "# # ax.set_xticklabels(df.index, rotation=60);pass"
   ]
  },
  {
   "cell_type": "markdown",
   "metadata": {},
   "source": [
    "---"
   ]
  },
  {
   "cell_type": "markdown",
   "metadata": {},
   "source": [
    "Parse the detailed topic accuracy of each models"
   ]
  },
  {
   "cell_type": "code",
   "execution_count": 8,
   "metadata": {
    "collapsed": false
   },
   "outputs": [
    {
     "data": {
      "text/plain": [
       "14"
      ]
     },
     "execution_count": 8,
     "metadata": {},
     "output_type": "execute_result"
    }
   ],
   "source": [
    "topics = ('capital-common-countries', \n",
    "          'capital-world',\n",
    "          'city-in-state',\n",
    "          'currency',\n",
    "          'family',\n",
    "          'gram1-adjective-to-adverb',\n",
    "          'gram2-opposite',\n",
    "          'gram3-comparative',\n",
    "          'gram4-superlative',\n",
    "          'gram5-present-participle',\n",
    "          'gram6-nationality-adjective',\n",
    "          'gram7-past-tense',\n",
    "          'gram8-plural',\n",
    "          'gram9-plural-verbs'\n",
    "         )\n",
    "len(topics)"
   ]
  },
  {
   "cell_type": "code",
   "execution_count": 9,
   "metadata": {
    "collapsed": false
   },
   "outputs": [],
   "source": [
    "accuracies = {}\n",
    "fldr = 'results-all/'\n",
    "files = os.listdir(fldr)\n",
    "\n",
    "for f in files:\n",
    "    if f.startswith('eval') and f.endswith('.txt'):# and not f.startswith('eval1-imdb-'):\n",
    "        fname = fldr + f\n",
    "        model_name = ''.join(f.split('-')[1:]).replace('.txt', '')\n",
    "        accuracies[model_name] = {}\n",
    "        with open(fname) as f:\n",
    "            try:\n",
    "                header = next(f)\n",
    "            except StopIteration as e: \n",
    "                print \"File is empty\"\n",
    "            for line in f:\n",
    "                if line.startswith(topics):\n",
    "                    topic = line.split(':')[0]\n",
    "                  \n",
    "                    # ACCURACY TOP1:\n",
    "                    acc_top = next(f)\n",
    "                    acc_top = acc_top.split(':')[-1]\n",
    "                    acc_top = acc_top.split('%')\n",
    "                    acc_top = [s.strip() for s in acc_top]\n",
    "                    # Total accuracy\n",
    "                    tot_acc = next(f)\n",
    "                    tot_acc = tot_acc.split('Total accuracy:')[-1].split('%')[:-1]\n",
    "                    tot_acc = [s.strip() for s in tot_acc]\n",
    "                    \n",
    "                    accuracies[model_name][topic] = acc_top, tot_acc\n"
   ]
  },
  {
   "cell_type": "markdown",
   "metadata": {},
   "source": [
    "#### Collect {model: {topic: accuracy}"
   ]
  },
  {
   "cell_type": "code",
   "execution_count": 122,
   "metadata": {
    "collapsed": false
   },
   "outputs": [],
   "source": [
    "topic_accurcies = {}\n",
    "for k, v in accuracies.items():\n",
    "    topic_accurcies[k] = {}\n",
    "    for kk, vv in v.items():\n",
    "        topic_accurcies[k][kk] = vv[1][0]"
   ]
  },
  {
   "cell_type": "markdown",
   "metadata": {},
   "source": [
    "#### Convert to a dataframe"
   ]
  },
  {
   "cell_type": "code",
   "execution_count": 133,
   "metadata": {
    "collapsed": false
   },
   "outputs": [],
   "source": [
    "df = pd.DataFrame.from_dict(topic_accurcies, orient='index')\n",
    "# df columns to float\n",
    "for c in df:\n",
    "    df[c] = df[c].apply(float)"
   ]
  },
  {
   "cell_type": "code",
   "execution_count": 134,
   "metadata": {
    "collapsed": false
   },
   "outputs": [
    {
     "data": {
      "image/png": "[encoded data removed]",
      "text/plain": [
       "<matplotlib.figure.Figure at 0x10c420150>"
      ]
     },
     "metadata": {},
     "output_type": "display_data"
    }
   ],
   "source": [
    "with plt.style.context(('seaborn-paper')):\n",
    "    ax = df.T.plot.barh(figsize=(7,10), grid=True)\n",
    "    ax.legend(loc='lower left')\n",
    "#     plt.savefig('../w2v-eval/img/topics-accuracy-threshold30K-Stylish.png', dpi=300, bbox_inches='tight')"
   ]
  },
  {
   "cell_type": "code",
   "execution_count": 64,
   "metadata": {
    "collapsed": true
   },
   "outputs": [
    {
     "data": {
      "image/png": "[encoded data removed]",
      "text/plain": [
       "<matplotlib.figure.Figure at 0x10cecf090>"
      ]
     },
     "metadata": {},
     "output_type": "display_data"
    }
   ],
   "source": [
    "ax = df.plot.bar(figsize=(10,5), grid=True)\n",
    "ax.legend(bbox_to_anchor=(1.4 ,1))\n",
    "ax.set_xticklabels(list(df.index), rotation=0);pass\n",
    "# plt.savefig('../w2v-eval/img/topics-accuracyByModel-threshold30K.png', dpi=300, bbox_inches='tight')"
   ]
  },
  {
   "cell_type": "markdown",
   "metadata": {},
   "source": [
    "### Add OVERALL accuracy"
   ]
  },
  {
   "cell_type": "code",
   "execution_count": 14,
   "metadata": {
    "collapsed": false
   },
   "outputs": [],
   "source": [
    "import numpy as np\n",
    "def comput_overall(df):\n",
    "    return df.apply(np.sum, axis=1) / len(df.columns)"
   ]
  },
  {
   "cell_type": "code",
   "execution_count": 15,
   "metadata": {
    "collapsed": false
   },
   "outputs": [],
   "source": [
    "# add new columns (overall_acc) as the average accuracy of all topics for each model\n",
    "df_overall = pd.DataFrame()\n",
    "df_overall['OVERALL'] = np.round( comput_overall(df), decimals=2)"
   ]
  },
  {
   "cell_type": "code",
   "execution_count": 16,
   "metadata": {
    "collapsed": false
   },
   "outputs": [
    {
     "data": {
      "text/html": [
       "<div>\n",
       "<table border=\"1\" class=\"dataframe\">\n",
       "  <thead>\n",
       "    <tr style=\"text-align: right;\">\n",
       "      <th></th>\n",
       "      <th>OVERALL</th>\n",
       "    </tr>\n",
       "  </thead>\n",
       "  <tbody>\n",
       "    <tr>\n",
       "      <th>googleNews</th>\n",
       "      <td>76.85</td>\n",
       "    </tr>\n",
       "    <tr>\n",
       "      <th>imdb</th>\n",
       "      <td>33.41</td>\n",
       "    </tr>\n",
       "    <tr>\n",
       "      <th>imdbtext8</th>\n",
       "      <td>59.89</td>\n",
       "    </tr>\n",
       "    <tr>\n",
       "      <th>text8</th>\n",
       "      <td>53.60</td>\n",
       "    </tr>\n",
       "  </tbody>\n",
       "</table>\n",
       "</div>"
      ],
      "text/plain": [
       "            OVERALL\n",
       "googleNews    76.85\n",
       "imdb          33.41\n",
       "imdbtext8     59.89\n",
       "text8         53.60"
      ]
     },
     "execution_count": 16,
     "metadata": {},
     "output_type": "execute_result"
    }
   ],
   "source": [
    "df_overall"
   ]
  },
  {
   "cell_type": "markdown",
   "metadata": {},
   "source": [
    "---\n",
    "# plots themes\n",
    "---"
   ]
  },
  {
   "cell_type": "code",
   "execution_count": 59,
   "metadata": {
    "collapsed": true
   },
   "outputs": [
    {
     "data": {
      "image/png": "[encoded data removed]",
      "text/plain": [
       "<matplotlib.figure.Figure at 0x10dfbed10>"
      ]
     },
     "metadata": {},
     "output_type": "display_data"
    }
   ],
   "source": [
    "\n",
    "fig, axes = plt.subplots(nrows=1,ncols=3, figsize=(15,4))\n",
    "\n",
    "a = df.T.plot.box(ax=axes[0], title='scores of the 14 topics boxplot', grid=True)\n",
    "a.set_ylim(10,100)\n",
    "\n",
    "c = df.T.plot.density(ax=axes[1], title='Topic scores density', grid=True)\n",
    "\n",
    "b = df_overall.plot.bar(ax=axes[2], legend=False, title='Average Score of all topics', grid=True)\n",
    "b.set_ylim(10,100)\n",
    "b.set_xticklabels(df_overall.index, rotation=0)\n",
    "\n",
    "fig.savefig('../w2v-eval/img/word-anlaogy-overall.png', dpi=300)#, bbox_to_inch='tight')"
   ]
  },
  {
   "cell_type": "code",
   "execution_count": 85,
   "metadata": {
    "collapsed": false
   },
   "outputs": [
    {
     "data": {
      "image/png": "[encoded data removed]",
      "text/plain": [
       "<matplotlib.figure.Figure at 0x10fa21c50>"
      ]
     },
     "metadata": {},
     "output_type": "display_data"
    }
   ],
   "source": [
    "\n",
    "with plt.style.context(('seaborn-paper')):\n",
    "\n",
    "    fig, axes = plt.subplots(nrows=1,ncols=3, figsize=(15,4))\n",
    "\n",
    "    a = df.T.plot.box(ax=axes[0], title='a)   Scores of the 14 topics boxplot', grid=True)\n",
    "    a.set_ylim(10,100)\n",
    "    a.set_xticklabels(df.index, rotation=20)\n",
    "\n",
    "    c = df.T.plot.density(ax=axes[1], title='b)   Topic scores density', grid=True)\n",
    "\n",
    "    b = df_overall.plot.bar(ax=axes[2], legend=False, title='c)   Overall average score of all topics', grid=True)\n",
    "    b.set_ylim(10,100)\n",
    "    b.set_xticklabels(df_overall.index, rotation=20)\n",
    "\n",
    "    fig.savefig('../w2v-eval/img/word-anlaogy-overall.png', dpi=300)#, bbox_to_inch='tight')\n",
    "\n"
   ]
  },
  {
   "cell_type": "markdown",
   "metadata": {},
   "source": [
    "Display scored accuracy for each topic "
   ]
  },
  {
   "cell_type": "code",
   "execution_count": 33,
   "metadata": {
    "collapsed": true
   },
   "outputs": [
    {
     "name": "stdout",
     "output_type": "stream",
     "text": [
      "MODEL: ACCURACY\n",
      "\tSCORE TOPIC\n",
      "text8: 53.60\n",
      "\t48.95 gram3-comparative\n",
      "\t52.40 gram8-plural\n",
      "\t77.87 capital-common-countries\n",
      "\t51.75 city-in-state\n",
      "\t53.47 family\n",
      "\t51.26 gram9-plural-verbs\n",
      "\t46.08 gram2-opposite\n",
      "\t58.63 currency\n",
      "\t48.16 gram4-superlative\n",
      "\t52.68 gram6-nationality-adjective\n",
      "\t51.17 gram7-past-tense\n",
      "\t46.90 gram5-present-participle\n",
      "\t63.59 capital-world\n",
      "\t47.56 gram1-adjective-to-adverb\n",
      "imdb: 33.41\n",
      "\t29.94 gram3-comparative\n",
      "\t37.79 gram8-plural\n",
      "\t51.10 capital-common-countries\n",
      "\t21.72 city-in-state\n",
      "\t30.06 family\n",
      "\t38.20 gram9-plural-verbs\n",
      "\t20.12 gram2-opposite\n",
      "\t41.20 currency\n",
      "\t29.25 gram4-superlative\n",
      "\t35.39 gram6-nationality-adjective\n",
      "\t35.96 gram7-past-tense\n",
      "\t30.18 gram5-present-participle\n",
      "\t44.22 capital-world\n",
      "\t22.59 gram1-adjective-to-adverb\n",
      "imdbtext8: 59.89\n",
      "\t53.85 gram3-comparative\n",
      "\t58.47 gram8-plural\n",
      "\t85.93 capital-common-countries\n",
      "\t59.15 city-in-state\n",
      "\t60.97 family\n",
      "\t57.98 gram9-plural-verbs\n",
      "\t47.45 gram2-opposite\n",
      "\t68.63 currency\n",
      "\t52.70 gram4-superlative\n",
      "\t57.74 gram6-nationality-adjective\n",
      "\t56.67 gram7-past-tense\n",
      "\t52.23 gram5-present-participle\n",
      "\t75.24 capital-world\n",
      "\t51.47 gram1-adjective-to-adverb\n",
      "googleNews: 76.85\n",
      "\t73.81 gram3-comparative\n",
      "\t77.23 gram8-plural\n",
      "\t83.60 capital-common-countries\n",
      "\t77.23 city-in-state\n",
      "\t78.06 family\n",
      "\t76.77 gram9-plural-verbs\n",
      "\t69.75 gram2-opposite\n",
      "\t80.22 currency\n",
      "\t75.06 gram4-superlative\n",
      "\t78.15 gram6-nationality-adjective\n",
      "\t76.53 gram7-past-tense\n",
      "\t75.50 gram5-present-participle\n",
      "\t82.95 capital-world\n",
      "\t71.10 gram1-adjective-to-adverb\n"
     ]
    }
   ],
   "source": [
    "print 'MODEL: ACCURACY'\n",
    "print '\\tSCORE TOPIC'\n",
    "for k, v in topic_accurcies.items():\n",
    "    print k+':',\n",
    "    tot = sum([float(vv) for kk, vv in v.items()])\n",
    "    tot = '{:.2f}'.format(tot / 14)\n",
    "    print tot\n",
    "    for k, v in v.items():\n",
    "        print '\\t', v, k"
   ]
  },
  {
   "cell_type": "markdown",
   "metadata": {},
   "source": [
    "#### Detailed accuracy (question seen and topic score)"
   ]
  },
  {
   "cell_type": "code",
   "execution_count": 34,
   "metadata": {
    "collapsed": true
   },
   "outputs": [
    {
     "name": "stdout",
     "output_type": "stream",
     "text": [
      "\ttot-acc [top-acc, (seen/question)] topic\n",
      "text8\n",
      "\t48.95 ['60.71', '(765 / 1260)']  gram3-comparative\n",
      "\t52.40 ['65.62', '(651 / 992)']  gram8-plural\n",
      "\t77.87 ['77.87', '(394 / 506)']  capital-common-countries\n",
      "\t51.75 ['42.01', '(660 / 1571)']  city-in-state\n",
      "\t53.47 ['74.84', '(229 / 306)']  family\n",
      "\t51.26 ['30.92', '(201 / 650)']  gram9-plural-verbs\n",
      "\t46.08 ['22.55', '(69 / 306)']  gram2-opposite\n",
      "\t58.63 ['22.39', '(60 / 268)']  currency\n",
      "\t48.16 ['38.14', '(193 / 506)']  gram4-superlative\n",
      "\t52.68 ['86.07', '(1180 / 1371)']  gram6-nationality-adjective\n",
      "\t51.17 ['40.62', '(541 / 1332)']  gram7-past-tense\n",
      "\t46.90 ['38.10', '(378 / 992)']  gram5-present-participle\n",
      "\t63.59 ['58.61', '(851 / 1452)']  capital-world\n",
      "\t47.56 ['15.48', '(117 / 756)']  gram1-adjective-to-adverb\n",
      "imdb\n",
      "\t29.94 ['54.13', '(721 / 1332)']  gram3-comparative\n",
      "\t37.79 ['54.13', '(537 / 992)']  gram8-plural\n",
      "\t51.10 ['51.10', '(139 / 272)']  capital-common-countries\n",
      "\t21.72 ['5.32', '(37 / 695)']  city-in-state\n",
      "\t30.06 ['55.48', '(233 / 420)']  family\n",
      "\t38.20 ['43.87', '(308 / 702)']  gram9-plural-verbs\n",
      "\t20.12 ['10.15', '(66 / 650)']  gram2-opposite\n",
      "\t41.20 ['0.00', '(0 / 40)']  currency\n",
      "\t29.25 ['25.00', '(189 / 756)']  gram4-superlative\n",
      "\t35.39 ['60.20', '(782 / 1299)']  gram6-nationality-adjective\n",
      "\t35.96 ['39.11', '(521 / 1332)']  gram7-past-tense\n",
      "\t30.18 ['36.33', '(295 / 812)']  gram5-present-participle\n",
      "\t44.22 ['37.36', '(102 / 273)']  capital-world\n",
      "\t22.59 ['8.92', '(83 / 930)']  gram1-adjective-to-adverb\n",
      "googleNews\n",
      "\t73.81 ['91.74', '(1222 / 1332)']  gram3-comparative\n",
      "\t77.23 ['85.28', '(846 / 992)']  gram8-plural\n",
      "\t83.60 ['83.60', '(423 / 506)']  capital-common-countries\n",
      "\t77.23 ['74.64', '(1739 / 2330)']  city-in-state\n",
      "\t78.06 ['88.60', '(303 / 342)']  family\n",
      "\t76.77 ['68.66', '(482 / 702)']  gram9-plural-verbs\n",
      "\t69.75 ['50.26', '(191 / 380)']  gram2-opposite\n",
      "\t80.22 ['39.84', '(51 / 128)']  currency\n",
      "\t75.06 ['87.89', '(617 / 702)']  gram4-superlative\n",
      "\t78.15 ['97.07', '(1193 / 1229)']  gram6-nationality-adjective\n",
      "\t76.53 ['65.59', '(972 / 1482)']  gram7-past-tense\n",
      "\t75.50 ['79.54', '(692 / 870)']  gram5-present-participle\n",
      "\t82.95 ['82.72', '(1144 / 1383)']  capital-world\n",
      "\t71.10 ['30.91', '(251 / 812)']  gram1-adjective-to-adverb\n",
      "imdbtext8\n",
      "\t53.85 ['76.58', '(1020 / 1332)']  gram3-comparative\n",
      "\t58.47 ['77.82', '(772 / 992)']  gram8-plural\n",
      "\t85.93 ['85.93', '(397 / 462)']  capital-common-countries\n",
      "\t59.15 ['46.74', '(581 / 1243)']  city-in-state\n",
      "\t60.97 ['74.74', '(284 / 380)']  family\n",
      "\t57.98 ['50.86', '(413 / 812)']  gram9-plural-verbs\n",
      "\t47.45 ['17.03', '(94 / 552)']  gram2-opposite\n",
      "\t68.63 ['4.61', '(7 / 152)']  currency\n",
      "\t52.70 ['44.09', '(358 / 812)']  gram4-superlative\n",
      "\t57.74 ['89.35', '(1225 / 1371)']  gram6-nationality-adjective\n",
      "\t56.67 ['49.64', '(698 / 1406)']  gram7-past-tense\n",
      "\t52.23 ['48.99', '(486 / 992)']  gram5-present-participle\n",
      "\t75.24 ['70.36', '(712 / 1012)']  capital-world\n",
      "\t51.47 ['18.28', '(170 / 930)']  gram1-adjective-to-adverb\n"
     ]
    }
   ],
   "source": [
    "print '\\ttot-acc [top-acc, (seen/question)] topic'\n",
    "for k, v in accuracies.items():\n",
    "    print k\n",
    "    for k, v in v.items():\n",
    "        print '\\t', v[1][0], v[0], '', k"
   ]
  },
  {
   "cell_type": "markdown",
   "metadata": {},
   "source": [
    "# Analyzing Sentiment accuracy"
   ]
  },
  {
   "cell_type": "code",
   "execution_count": 35,
   "metadata": {
    "collapsed": false
   },
   "outputs": [],
   "source": [
    "import json\n",
    "with open('sentiment-results.json', 'r') as handle:\n",
    "    parsed_dict = json.load(handle)"
   ]
  },
  {
   "cell_type": "code",
   "execution_count": 36,
   "metadata": {
    "collapsed": true
   },
   "outputs": [],
   "source": [
    "# read result file\n",
    "sent_df = pd.DataFrame.from_dict(parsed_dict)#, orient='index')"
   ]
  },
  {
   "cell_type": "code",
   "execution_count": 37,
   "metadata": {
    "collapsed": true
   },
   "outputs": [
    {
     "name": "stdout",
     "output_type": "stream",
     "text": [
      "imdb-text8\n",
      "\tSGDClassifier 85.50%\n",
      "\tLinearSVC 89.12%\n",
      "\tPerceptron 80.11%\n",
      "\tLogisticRegressionCV 89.08%\n",
      "\tRandomForestClassifier 83.94%\n",
      "imdb\n",
      "\tSGDClassifier 86.49%\n",
      "\tLinearSVC 89.20%\n",
      "\tPerceptron 84.29%\n",
      "\tLogisticRegressionCV 89.19%\n",
      "\tRandomForestClassifier 84.47%\n",
      "text8\n",
      "\tSGDClassifier 75.44%\n",
      "\tLinearSVC 81.17%\n",
      "\tPerceptron 76.62%\n",
      "\tLogisticRegressionCV 81.22%\n",
      "\tRandomForestClassifier 74.26%\n",
      "GoogleNews\n",
      "\tSGDClassifier 82.89%\n",
      "\tLinearSVC 86.14%\n",
      "\tPerceptron 78.94%\n",
      "\tLogisticRegressionCV 86.08%\n",
      "\tRandomForestClassifier 79.90%\n"
     ]
    }
   ],
   "source": [
    "# parsing scores only (without pos / neg count)\n",
    "score_dict = {}\n",
    "for k, v in parsed_dict.items():\n",
    "    print k\n",
    "    score_dict[k] = {}\n",
    "    for kk, vv in v.items():\n",
    "        score_dict[k][kk] = vv[0]\n",
    "        print '\\t', kk, vv[0]"
   ]
  },
  {
   "cell_type": "code",
   "execution_count": 38,
   "metadata": {
    "collapsed": true
   },
   "outputs": [],
   "source": [
    "# positive count only (without pos / neg count)\n",
    "pos_dict = {}\n",
    "for k, v in parsed_dict.items():\n",
    "    pos_dict[k] = {}\n",
    "    for kk, vv in v.items():\n",
    "        pos_dict[k][kk] = vv[1]\n",
    "# negative count only (without pos / neg count)\n",
    "neg_dict = {}\n",
    "for k, v in parsed_dict.items():\n",
    "    neg_dict[k] = {}\n",
    "    for kk, vv in v.items():\n",
    "        neg_dict[k][kk] = vv[2]"
   ]
  },
  {
   "cell_type": "code",
   "execution_count": 39,
   "metadata": {
    "collapsed": false
   },
   "outputs": [],
   "source": [
    "# dataframe of CLASSIFIERS score\n",
    "clf_df = pd.DataFrame.from_dict(score_dict)#, orient='index')"
   ]
  },
  {
   "cell_type": "code",
   "execution_count": 40,
   "metadata": {
    "collapsed": false
   },
   "outputs": [],
   "source": [
    "clf_df = clf_df.replace('%', '', regex=True) # remove % sign \n",
    "clf_df = clf_df.astype(float) # make dataframe numeric data "
   ]
  },
  {
   "cell_type": "code",
   "execution_count": 41,
   "metadata": {
    "collapsed": false
   },
   "outputs": [
    {
     "data": {
      "text/html": [
       "<div>\n",
       "<table border=\"1\" class=\"dataframe\">\n",
       "  <thead>\n",
       "    <tr style=\"text-align: right;\">\n",
       "      <th></th>\n",
       "      <th>GoogleNews</th>\n",
       "      <th>imdb</th>\n",
       "      <th>imdb-text8</th>\n",
       "      <th>text8</th>\n",
       "    </tr>\n",
       "  </thead>\n",
       "  <tbody>\n",
       "    <tr>\n",
       "      <th>LinearSVC</th>\n",
       "      <td>86.14</td>\n",
       "      <td>89.20</td>\n",
       "      <td>89.12</td>\n",
       "      <td>81.17</td>\n",
       "    </tr>\n",
       "    <tr>\n",
       "      <th>LogisticRegressionCV</th>\n",
       "      <td>86.08</td>\n",
       "      <td>89.19</td>\n",
       "      <td>89.08</td>\n",
       "      <td>81.22</td>\n",
       "    </tr>\n",
       "    <tr>\n",
       "      <th>Perceptron</th>\n",
       "      <td>78.94</td>\n",
       "      <td>84.29</td>\n",
       "      <td>80.11</td>\n",
       "      <td>76.62</td>\n",
       "    </tr>\n",
       "    <tr>\n",
       "      <th>RandomForestClassifier</th>\n",
       "      <td>79.90</td>\n",
       "      <td>84.47</td>\n",
       "      <td>83.94</td>\n",
       "      <td>74.26</td>\n",
       "    </tr>\n",
       "    <tr>\n",
       "      <th>SGDClassifier</th>\n",
       "      <td>82.89</td>\n",
       "      <td>86.49</td>\n",
       "      <td>85.50</td>\n",
       "      <td>75.44</td>\n",
       "    </tr>\n",
       "  </tbody>\n",
       "</table>\n",
       "</div>"
      ],
      "text/plain": [
       "                        GoogleNews   imdb  imdb-text8  text8\n",
       "LinearSVC                    86.14  89.20       89.12  81.17\n",
       "LogisticRegressionCV         86.08  89.19       89.08  81.22\n",
       "Perceptron                   78.94  84.29       80.11  76.62\n",
       "RandomForestClassifier       79.90  84.47       83.94  74.26\n",
       "SGDClassifier                82.89  86.49       85.50  75.44"
      ]
     },
     "execution_count": 41,
     "metadata": {},
     "output_type": "execute_result"
    }
   ],
   "source": [
    "clf_df"
   ]
  },
  {
   "cell_type": "code",
   "execution_count": 45,
   "metadata": {
    "collapsed": false
   },
   "outputs": [
    {
     "data": {
      "image/png": "[encoded data removed]",
      "text/plain": [
       "<matplotlib.figure.Figure at 0x10c8eee90>"
      ]
     },
     "metadata": {},
     "output_type": "display_data"
    }
   ],
   "source": [
    "with plt.style.context(('seaborn-paper')):\n",
    "    ax = clf_df.plot.barh(grid=True, title='Sentiment classifier scores', layout=(2,3))\n",
    "    # ax.legend(bbox_to_anchor=(.4,.4))\n",
    "    ax.legend(loc='lower left')\n",
    "    ax.set_xlim(65,100)\n",
    "    plt.savefig('../w2v-eval/img/sentiment-results', dpi=300, bbox_inches='tight')"
   ]
  },
  {
   "cell_type": "markdown",
   "metadata": {},
   "source": [
    "# Putting all it Together"
   ]
  },
  {
   "cell_type": "code",
   "execution_count": null,
   "metadata": {
    "collapsed": true
   },
   "outputs": [],
   "source": [
    "# fig, axes = plt.subplots(nrows=2, ncols=2, figsize=(8, 7))\n",
    "ab = acc_df.plot.bar(subplots=True, legend=False, grid=True, layout=(3,1), figsize=(3,6), title='Models accuracy in word analogy task')\n",
    "ax = clf_df.plot.barh(grid=True, title='Sentiment classifier scores', layout=(2,3))\n",
    "ax.legend(bbox_to_anchor=(.5,.5))\n",
    "ax.set_xlim(0,100)\n"
   ]
  },
  {
   "cell_type": "code",
   "execution_count": null,
   "metadata": {
    "collapsed": true
   },
   "outputs": [],
   "source": [
    "# Add a plot for classification performance as a function of model type"
   ]
  },
  {
   "cell_type": "markdown",
   "metadata": {},
   "source": [
    "Show three things together:\n",
    "\n",
    "1. model accuracy\n",
    "2. average retrieval error\n",
    "3. sentiment results"
   ]
  },
  {
   "cell_type": "markdown",
   "metadata": {},
   "source": [
    "---\n",
    "\n",
    "\n",
    "\n",
    "\n",
    "\n",
    "\n",
    "\n",
    "\n",
    "\n",
    "\n",
    "\n",
    "\n",
    "\n",
    "\n",
    "\n",
    "\n",
    "<br>\n",
    "<br>\n",
    "<br>\n",
    "<br>\n",
    "\n",
    "\n",
    "\n",
    "\n",
    "\n",
    "\n",
    "\n",
    "\n",
    "\n",
    "\n",
    "\n",
    "\n",
    "\n",
    "\n",
    "\n",
    "\n",
    "<br>\n",
    "<br>\n",
    "<br>\n",
    "<br>\n"
   ]
  },
  {
   "cell_type": "markdown",
   "metadata": {},
   "source": [
    "---\n",
    "\n",
    "--- \n",
    "# Scrap PLAYGROUND\n",
    "<hr>\n",
    "---"
   ]
  },
  {
   "cell_type": "markdown",
   "metadata": {},
   "source": [
    "### Evaluating  IMDB Sentiment Analysis with w2v model"
   ]
  },
  {
   "cell_type": "code",
   "execution_count": 32,
   "metadata": {
    "collapsed": true
   },
   "outputs": [],
   "source": [
    "import sentiment as sen"
   ]
  },
  {
   "cell_type": "code",
   "execution_count": 33,
   "metadata": {
    "collapsed": false
   },
   "outputs": [
    {
     "data": {
      "text/plain": [
       "[['hello', 'workd', 'this', 'no'], ['sentim']]"
      ]
     },
     "execution_count": 33,
     "metadata": {},
     "output_type": "execute_result"
    }
   ],
   "source": [
    "sen.tokenize_data(['Hello workd 3 this <> no', 'sentim'])"
   ]
  },
  {
   "cell_type": "markdown",
   "metadata": {},
   "source": [
    "#### Retrieval-ERROR frequency"
   ]
  },
  {
   "cell_type": "code",
   "execution_count": 195,
   "metadata": {
    "collapsed": true
   },
   "outputs": [],
   "source": [
    "text8_ratio = retrieved_review_ratio"
   ]
  },
  {
   "cell_type": "code",
   "execution_count": 134,
   "metadata": {
    "collapsed": false
   },
   "outputs": [],
   "source": [
    "imdb_ratio = retrieved_review_ratio\n",
    "imdb_difference = [r - f for r, f in imdb_ratio]"
   ]
  },
  {
   "cell_type": "code",
   "execution_count": 150,
   "metadata": {
    "collapsed": false
   },
   "outputs": [
    {
     "data": {
      "text/plain": [
       "[<matplotlib.lines.Line2D at 0x24c596ed0>]"
      ]
     },
     "execution_count": 150,
     "metadata": {},
     "output_type": "execute_result"
    },
    {
     "data": {
      "image/png": "[encoded data removed]",
      "text/plain": [
       "<matplotlib.figure.Figure at 0x117c47c90>"
      ]
     },
     "metadata": {},
     "output_type": "display_data"
    }
   ],
   "source": [
    "imdb_freq = Counter(imdb_difference)\n",
    "x1, y1 = imdb_freq.keys(), imdb_freq.values()\n",
    "plt.figure(figsize=(13,8))\n",
    "plt.plot(x1, y1)\n",
    "plt.plot(x, y) # google"
   ]
  },
  {
   "cell_type": "code",
   "execution_count": 154,
   "metadata": {
    "collapsed": false
   },
   "outputs": [
    {
     "data": {
      "image/png": "[encoded data removed]",
      "text/plain": [
       "<matplotlib.figure.Figure at 0x27aebb690>"
      ]
     },
     "metadata": {},
     "output_type": "display_data"
    },
    {
     "data": {
      "image/png": "[encoded data removed]",
      "text/plain": [
       "<matplotlib.figure.Figure at 0x24bb7b1d0>"
      ]
     },
     "metadata": {},
     "output_type": "display_data"
    }
   ],
   "source": [
    "plt.hist(imdb_difference);plt.show()\n",
    "plt.hist(google_difference);"
   ]
  },
  {
   "cell_type": "code",
   "execution_count": null,
   "metadata": {
    "collapsed": true
   },
   "outputs": [],
   "source": [
    "import matplotlib.pyplot as plt\n",
    "fig, axes = plt.subplots(nrows=2, ncols=2, figsize=(12,6))\n",
    "# df1.plot(ax=axes[0,0])\n",
    "# df2.plot(ax=axes[0,1])\n",
    "# df3.plot(ax=axes[1,0])\n",
    "# df4.plot(ax=axes[1,1])\n",
    "axes.plo"
   ]
  },
  {
   "cell_type": "code",
   "execution_count": 157,
   "metadata": {
    "collapsed": false
   },
   "outputs": [
    {
     "data": {
      "text/plain": [
       "<Container object of 39 artists>"
      ]
     },
     "execution_count": 157,
     "metadata": {},
     "output_type": "execute_result"
    },
    {
     "data": {
      "image/png": "[encoded data removed]",
      "text/plain": [
       "<matplotlib.figure.Figure at 0x11a7d9650>"
      ]
     },
     "metadata": {},
     "output_type": "display_data"
    }
   ],
   "source": [
    "plt.bar(x1,y1)"
   ]
  },
  {
   "cell_type": "code",
   "execution_count": 203,
   "metadata": {
    "collapsed": false
   },
   "outputs": [],
   "source": [
    "differences = [r - f for r, f in retrieval_ratio]"
   ]
  },
  {
   "cell_type": "code",
   "execution_count": 162,
   "metadata": {
    "collapsed": false
   },
   "outputs": [],
   "source": []
  },
  {
   "cell_type": "code",
   "execution_count": 122,
   "metadata": {
    "collapsed": false
   },
   "outputs": [],
   "source": [
    "# google_ratio = retrieved_review_ratio\n",
    "google_difference = [r - f for r, f in google_ratio]"
   ]
  },
  {
   "cell_type": "code",
   "execution_count": 140,
   "metadata": {
    "collapsed": false
   },
   "outputs": [
    {
     "data": {
      "text/plain": [
       "[<matplotlib.lines.Line2D at 0x26802b4d0>]"
      ]
     },
     "execution_count": 140,
     "metadata": {},
     "output_type": "execute_result"
    },
    {
     "data": {
      "image/png": "[encoded data removed]",
      "text/plain": [
       "<matplotlib.figure.Figure at 0x27c3535d0>"
      ]
     },
     "metadata": {},
     "output_type": "display_data"
    }
   ],
   "source": [
    "google_freq = Counter(google_difference)\n",
    "x, y = google_freq.keys(), google_freq.values()\n",
    "plt.figure(figsize=(13, 6))\n",
    "plt.plot(x, y)"
   ]
  },
  {
   "cell_type": "code",
   "execution_count": 65,
   "metadata": {
    "collapsed": true
   },
   "outputs": [
    {
     "data": {
      "text/plain": [
       "(array([  3.80830000e+04,   8.99400000e+03,   2.13000000e+03,\n",
       "          6.50000000e+02,   1.23000000e+02,   1.20000000e+01,\n",
       "          4.00000000e+00,   2.00000000e+00,   0.00000000e+00,\n",
       "          2.00000000e+00]),\n",
       " array([   0. ,   35.2,   70.4,  105.6,  140.8,  176. ,  211.2,  246.4,\n",
       "         281.6,  316.8,  352. ]),\n",
       " <a list of 10 Patch objects>)"
      ]
     },
     "execution_count": 65,
     "metadata": {},
     "output_type": "execute_result"
    },
    {
     "data": {
      "image/png": "[encoded data removed]",
      "text/plain": [
       "<matplotlib.figure.Figure at 0x132576610>"
      ]
     },
     "metadata": {},
     "output_type": "display_data"
    }
   ],
   "source": [
    "# GoogleNews\n",
    "plt.hist(difference)"
   ]
  },
  {
   "cell_type": "code",
   "execution_count": 55,
   "metadata": {
    "collapsed": true
   },
   "outputs": [
    {
     "data": {
      "image/png": "[encoded data removed]",
      "text/plain": [
       "<matplotlib.figure.Figure at 0x13d1c8a90>"
      ]
     },
     "metadata": {},
     "output_type": "display_data"
    }
   ],
   "source": [
    "#IDMB \n",
    "plt.hist(difference);pass"
   ]
  },
  {
   "cell_type": "code",
   "execution_count": 81,
   "metadata": {
    "collapsed": true
   },
   "outputs": [
    {
     "data": {
      "image/png": "[encoded data removed]",
      "text/plain": [
       "<matplotlib.figure.Figure at 0x131dd4fd0>"
      ]
     },
     "metadata": {},
     "output_type": "display_data"
    }
   ],
   "source": [
    "# GoogleNews\n",
    "plt.hist(difference);pass"
   ]
  },
  {
   "cell_type": "code",
   "execution_count": 60,
   "metadata": {
    "collapsed": true
   },
   "outputs": [
    {
     "data": {
      "image/png": "[encoded data removed]",
      "text/plain": [
       "<matplotlib.figure.Figure at 0x13d2cc250>"
      ]
     },
     "metadata": {},
     "output_type": "display_data"
    }
   ],
   "source": [
    "# text8\n",
    "plt.hist(difference);pass"
   ]
  },
  {
   "cell_type": "markdown",
   "metadata": {},
   "source": [
    "#### IMDB embeddings retrieval accuracy"
   ]
  },
  {
   "cell_type": "code",
   "execution_count": 98,
   "metadata": {
    "collapsed": true
   },
   "outputs": [],
   "source": [
    "imdb = df"
   ]
  },
  {
   "cell_type": "code",
   "execution_count": 105,
   "metadata": {
    "collapsed": false
   },
   "outputs": [],
   "source": [
    "freq = imdb.values"
   ]
  },
  {
   "cell_type": "markdown",
   "metadata": {},
   "source": [
    "\n",
    "GOOGLE"
   ]
  },
  {
   "cell_type": "code",
   "execution_count": 1,
   "metadata": {
    "collapsed": true
   },
   "outputs": [],
   "source": [
    "%matplotlib inline"
   ]
  },
  {
   "cell_type": "markdown",
   "metadata": {},
   "source": [
    "# Analazing Review Tokens Retrieval"
   ]
  },
  {
   "cell_type": "code",
   "execution_count": 1,
   "metadata": {
    "collapsed": true
   },
   "outputs": [],
   "source": [
    "%matplotlib inline"
   ]
  },
  {
   "cell_type": "markdown",
   "metadata": {},
   "source": [
    "#### imdb_train.csv"
   ]
  },
  {
   "cell_type": "code",
   "execution_count": 2,
   "metadata": {
    "collapsed": false
   },
   "outputs": [],
   "source": [
    "import pandas as pd\n",
    "im = pd.read_csv('results/ratio_imdb-train.csv', index_col=0)\n",
    "db8 = pd.read_csv('results/ratio_imdb-text8-train.csv', index_col=0)\n",
    "t8 = pd.read_csv('results/ratio_text8-train.csv', index_col=0)\n",
    "g = pd.read_csv('results/ratio_GoogleNews-vectors-negative300.gz-train.csv', index_col=0)"
   ]
  },
  {
   "cell_type": "code",
   "execution_count": 3,
   "metadata": {
    "collapsed": false
   },
   "outputs": [],
   "source": [
    "# which col to choose and operation on them \n",
    "op = lambda c: c.sum()\n",
    "qu = lambda df: df.num_review_tokens\n",
    "found = lambda df: df.retrieved_vectors\n",
    "mis = lambda df: df.missed"
   ]
  },
  {
   "cell_type": "code",
   "execution_count": 4,
   "metadata": {
    "collapsed": true
   },
   "outputs": [],
   "source": [
    "qur = pd.DataFrame([ op(qu(im)), op(qu(db8)), op(qu(t8)), op(qu(g))], columns=['queried'])"
   ]
  },
  {
   "cell_type": "code",
   "execution_count": 5,
   "metadata": {
    "collapsed": false
   },
   "outputs": [],
   "source": [
    "ret = pd.DataFrame([ op(found(im)), op(found(db8)), op(found(t8)), op(found(g))], columns=['retrieved'])"
   ]
  },
  {
   "cell_type": "code",
   "execution_count": 6,
   "metadata": {
    "collapsed": false
   },
   "outputs": [],
   "source": [
    "miss = pd.DataFrame([ op(mis(im)), op(mis(db8)), op(mis(t8)), op(mis(g))], columns=['missed'])"
   ]
  },
  {
   "cell_type": "markdown",
   "metadata": {},
   "source": [
    "Number of reviews in imdb_train.csv"
   ]
  },
  {
   "cell_type": "code",
   "execution_count": 17,
   "metadata": {
    "collapsed": false
   },
   "outputs": [
    {
     "data": {
      "text/plain": [
       "25000"
      ]
     },
     "execution_count": 17,
     "metadata": {},
     "output_type": "execute_result"
    }
   ],
   "source": [
    "len(db8)"
   ]
  },
  {
   "cell_type": "markdown",
   "metadata": {},
   "source": [
    "Average number of tokens per review (all models are same)"
   ]
  },
  {
   "cell_type": "code",
   "execution_count": 15,
   "metadata": {
    "collapsed": false
   },
   "outputs": [
    {
     "data": {
      "text/plain": [
       "236"
      ]
     },
     "execution_count": 15,
     "metadata": {},
     "output_type": "execute_result"
    }
   ],
   "source": [
    "qur.queried[0] / len(db8)"
   ]
  },
  {
   "cell_type": "markdown",
   "metadata": {},
   "source": [
    "> ---\n",
    "> Index-model mapping (for results below)\n",
    "> \n",
    "> ```\n",
    "> 0 imdb\n",
    "> 1 imdb-text8\n",
    "> 2 text8\n",
    "> 3 googlNews\n",
    "> ```\n",
    "> ---"
   ]
  },
  {
   "cell_type": "markdown",
   "metadata": {},
   "source": [
    "Average number of missed tokens (vocabulary not found) per review for each model.<br>\n",
    "Lets call it: **Average Retrieval Error**"
   ]
  },
  {
   "cell_type": "code",
   "execution_count": 19,
   "metadata": {
    "collapsed": false
   },
   "outputs": [
    {
     "data": {
      "text/plain": [
       "0     1.47204\n",
       "1     0.99464\n",
       "2     4.69884\n",
       "3    28.37376\n",
       "Name: missed, dtype: float64"
      ]
     },
     "execution_count": 19,
     "metadata": {},
     "output_type": "execute_result"
    }
   ],
   "source": [
    "miss.missed / len(db8)"
   ]
  },
  {
   "cell_type": "markdown",
   "metadata": {},
   "source": [
    "Total tokens queried to each model (from all reviews)"
   ]
  },
  {
   "cell_type": "code",
   "execution_count": 28,
   "metadata": {
    "collapsed": false
   },
   "outputs": [
    {
     "data": {
      "text/html": [
       "<div>\n",
       "<table border=\"1\" class=\"dataframe\">\n",
       "  <thead>\n",
       "    <tr style=\"text-align: right;\">\n",
       "      <th></th>\n",
       "      <th>queried</th>\n",
       "    </tr>\n",
       "  </thead>\n",
       "  <tbody>\n",
       "    <tr>\n",
       "      <th>0</th>\n",
       "      <td>5920617</td>\n",
       "    </tr>\n",
       "    <tr>\n",
       "      <th>1</th>\n",
       "      <td>5920617</td>\n",
       "    </tr>\n",
       "    <tr>\n",
       "      <th>2</th>\n",
       "      <td>5920617</td>\n",
       "    </tr>\n",
       "    <tr>\n",
       "      <th>3</th>\n",
       "      <td>5920617</td>\n",
       "    </tr>\n",
       "  </tbody>\n",
       "</table>\n",
       "</div>"
      ],
      "text/plain": [
       "   queried\n",
       "0  5920617\n",
       "1  5920617\n",
       "2  5920617\n",
       "3  5920617"
      ]
     },
     "execution_count": 28,
     "metadata": {},
     "output_type": "execute_result"
    }
   ],
   "source": [
    "qur"
   ]
  },
  {
   "cell_type": "markdown",
   "metadata": {},
   "source": [
    "Total tokens retrieved from each model"
   ]
  },
  {
   "cell_type": "code",
   "execution_count": 29,
   "metadata": {
    "collapsed": false
   },
   "outputs": [
    {
     "data": {
      "text/html": [
       "<div>\n",
       "<table border=\"1\" class=\"dataframe\">\n",
       "  <thead>\n",
       "    <tr style=\"text-align: right;\">\n",
       "      <th></th>\n",
       "      <th>retrieved</th>\n",
       "    </tr>\n",
       "  </thead>\n",
       "  <tbody>\n",
       "    <tr>\n",
       "      <th>0</th>\n",
       "      <td>5883816</td>\n",
       "    </tr>\n",
       "    <tr>\n",
       "      <th>1</th>\n",
       "      <td>5895751</td>\n",
       "    </tr>\n",
       "    <tr>\n",
       "      <th>2</th>\n",
       "      <td>5803146</td>\n",
       "    </tr>\n",
       "    <tr>\n",
       "      <th>3</th>\n",
       "      <td>5211273</td>\n",
       "    </tr>\n",
       "  </tbody>\n",
       "</table>\n",
       "</div>"
      ],
      "text/plain": [
       "   retrieved\n",
       "0    5883816\n",
       "1    5895751\n",
       "2    5803146\n",
       "3    5211273"
      ]
     },
     "execution_count": 29,
     "metadata": {},
     "output_type": "execute_result"
    },
    {
     "data": {
      "image/png": "[encoded data removed]",
      "text/plain": [
       "<matplotlib.figure.Figure at 0x111b01850>"
      ]
     },
     "metadata": {},
     "output_type": "display_data"
    }
   ],
   "source": [
    "ret.plot.bar(legend=False)\n",
    "ret"
   ]
  },
  {
   "cell_type": "markdown",
   "metadata": {},
   "source": [
    "Total tokens missed (not found)"
   ]
  },
  {
   "cell_type": "code",
   "execution_count": 22,
   "metadata": {
    "collapsed": false
   },
   "outputs": [
    {
     "data": {
      "text/html": [
       "<div>\n",
       "<table border=\"1\" class=\"dataframe\">\n",
       "  <thead>\n",
       "    <tr style=\"text-align: right;\">\n",
       "      <th></th>\n",
       "      <th>missed</th>\n",
       "    </tr>\n",
       "  </thead>\n",
       "  <tbody>\n",
       "    <tr>\n",
       "      <th>0</th>\n",
       "      <td>36801</td>\n",
       "    </tr>\n",
       "    <tr>\n",
       "      <th>1</th>\n",
       "      <td>24866</td>\n",
       "    </tr>\n",
       "    <tr>\n",
       "      <th>2</th>\n",
       "      <td>117471</td>\n",
       "    </tr>\n",
       "    <tr>\n",
       "      <th>3</th>\n",
       "      <td>709344</td>\n",
       "    </tr>\n",
       "  </tbody>\n",
       "</table>\n",
       "</div>"
      ],
      "text/plain": [
       "   missed\n",
       "0   36801\n",
       "1   24866\n",
       "2  117471\n",
       "3  709344"
      ]
     },
     "execution_count": 22,
     "metadata": {},
     "output_type": "execute_result"
    },
    {
     "data": {
      "image/png": "[encoded data removed]",
      "text/plain": [
       "<matplotlib.figure.Figure at 0x1110f9550>"
      ]
     },
     "metadata": {},
     "output_type": "display_data"
    }
   ],
   "source": [
    "miss.plot.bar()\n",
    "miss"
   ]
  },
  {
   "cell_type": "code",
   "execution_count": 126,
   "metadata": {
    "collapsed": false
   },
   "outputs": [
    {
     "data": {
      "text/plain": [
       "177"
      ]
     },
     "execution_count": 126,
     "metadata": {},
     "output_type": "execute_result"
    }
   ],
   "source": [
    "len(set(g.num_review_tokens - g.retrieved_vectors))"
   ]
  },
  {
   "cell_type": "markdown",
   "metadata": {},
   "source": [
    "Frequency of missed "
   ]
  },
  {
   "cell_type": "code",
   "execution_count": 179,
   "metadata": {
    "collapsed": false
   },
   "outputs": [],
   "source": [
    "# m = pd.DataFrame([ mis(im), mis(db8), mis(t8), mis(g)])"
   ]
  },
  {
   "cell_type": "code",
   "execution_count": 182,
   "metadata": {
    "collapsed": false
   },
   "outputs": [
    {
     "data": {
      "text/plain": [
       "<matplotlib.text.Text at 0x117c97250>"
      ]
     },
     "execution_count": 182,
     "metadata": {},
     "output_type": "execute_result"
    },
    {
     "data": {
      "image/png": "[encoded data removed]",
      "text/plain": [
       "<matplotlib.figure.Figure at 0x11a66e910>"
      ]
     },
     "metadata": {},
     "output_type": "display_data"
    }
   ],
   "source": [
    "im.missed.plot.hist(alpha=0.3)\n",
    "db8.missed.plot.hist(alpha=0.7)\n",
    "t8.missed.plot.hist(alpha=0.3)\n",
    "# ax = g.missed.plot.hist(title='GoogleNews', alpha=0.2)\n",
    "ax.set_xlabel('number of tokens')"
   ]
  },
  {
   "cell_type": "code",
   "execution_count": 114,
   "metadata": {
    "collapsed": false
   },
   "outputs": [],
   "source": [
    "models = pd.DataFrame([qur.queried, ret.retrieved, miss.missed])\n",
    "models.columns = ['imdb', 'imdb-text8', 'text8', 'google']"
   ]
  },
  {
   "cell_type": "code",
   "execution_count": 147,
   "metadata": {
    "collapsed": false
   },
   "outputs": [
    {
     "data": {
      "text/plain": [
       "<matplotlib.legend.Legend at 0x116b9ba90>"
      ]
     },
     "execution_count": 147,
     "metadata": {},
     "output_type": "execute_result"
    },
    {
     "data": {
      "image/png": "[encoded data removed]",
      "text/plain": [
       "<matplotlib.figure.Figure at 0x116b9b210>"
      ]
     },
     "metadata": {},
     "output_type": "display_data"
    }
   ],
   "source": [
    "ax = models.T.plot.bar(stacked=True)\n",
    "ax.legend(bbox_to_anchor=(0.5,0.5))"
   ]
  },
  {
   "cell_type": "code",
   "execution_count": 148,
   "metadata": {
    "collapsed": false
   },
   "outputs": [
    {
     "data": {
      "text/plain": [
       "<matplotlib.legend.Legend at 0x116f04910>"
      ]
     },
     "execution_count": 148,
     "metadata": {},
     "output_type": "execute_result"
    },
    {
     "data": {
      "image/png": "[encoded data removed]",
      "text/plain": [
       "<matplotlib.figure.Figure at 0x116e8f150>"
      ]
     },
     "metadata": {},
     "output_type": "display_data"
    }
   ],
   "source": [
    "ax = models.T.plot.bar()\n",
    "ax.legend(bbox_to_anchor = (0.5, 0.5))"
   ]
  },
  {
   "cell_type": "code",
   "execution_count": 38,
   "metadata": {
    "collapsed": false
   },
   "outputs": [
    {
     "data": {
      "text/plain": [
       "<matplotlib.axes._subplots.AxesSubplot at 0x1111bed50>"
      ]
     },
     "execution_count": 38,
     "metadata": {},
     "output_type": "execute_result"
    },
    {
     "data": {
      "image/png": "[encoded data removed]",
      "text/plain": [
       "<matplotlib.figure.Figure at 0x1112963d0>"
      ]
     },
     "metadata": {},
     "output_type": "display_data"
    }
   ],
   "source": [
    "ret.plot.barh(stacked=True)"
   ]
  },
  {
   "cell_type": "code",
   "execution_count": null,
   "metadata": {
    "collapsed": true
   },
   "outputs": [],
   "source": []
  },
  {
   "cell_type": "code",
   "execution_count": null,
   "metadata": {
    "collapsed": true
   },
   "outputs": [],
   "source": []
  },
  {
   "cell_type": "code",
   "execution_count": null,
   "metadata": {
    "collapsed": true
   },
   "outputs": [],
   "source": []
  },
  {
   "cell_type": "code",
   "execution_count": 96,
   "metadata": {
    "collapsed": false
   },
   "outputs": [
    {
     "data": {
      "text/plain": [
       "<matplotlib.axes._subplots.AxesSubplot at 0x11e4c77d0>"
      ]
     },
     "execution_count": 96,
     "metadata": {},
     "output_type": "execute_result"
    },
    {
     "data": {
      "image/png": "[encoded data removed]",
      "text/plain": [
       "<matplotlib.figure.Figure at 0x11e4c3c50>"
      ]
     },
     "metadata": {},
     "output_type": "display_data"
    }
   ],
   "source": [
    "gsum = google.retrieved_vectors.sum()\n",
    "isum = imdb.retrieved_vectors.sum()\n",
    "tsum = test8.retrieved_vectors.sum()\n",
    "sums = pd.DataFrame([gsum,isum, tsum], columns=['Total retrieved tokens'])\n",
    "sums.plot(kind='bar')"
   ]
  },
  {
   "cell_type": "code",
   "execution_count": null,
   "metadata": {
    "collapsed": true
   },
   "outputs": [],
   "source": [
    "totals = (itot, gtot, ttot)\n",
    "retrieves = (isum, gsum, tsum)\n",
    "fig, ax = plt.subplots()\n",
    "rect1 = ax.bar(ind, retrieves, width, color='r')#, yerr=menStd)\n",
    "rect2 = ax.bar(ind + 0.1, totals, width, color='b')#, yerr=menStd)\n",
    "ax.legend(('retrieved vectors', 'review tokens'), bbox_to_anchor = (1, 0.5))\n",
    "ax.set_xticks(ind + width)\n",
    "ax.set_xticklabels(('IMDB', 'GoogleNews', 'text8'))\n",
    "plt.grid()\n",
    "plt.show()"
   ]
  },
  {
   "cell_type": "code",
   "execution_count": 5,
   "metadata": {
    "collapsed": false
   },
   "outputs": [],
   "source": [
    "# google[['missed']].plot()"
   ]
  },
  {
   "cell_type": "code",
   "execution_count": 17,
   "metadata": {
    "collapsed": true
   },
   "outputs": [],
   "source": [
    "import numpy as np"
   ]
  },
  {
   "cell_type": "code",
   "execution_count": 26,
   "metadata": {
    "collapsed": false
   },
   "outputs": [
    {
     "data": {
      "text/plain": [
       "<matplotlib.axes._subplots.AxesSubplot at 0x1104e5bd0>"
      ]
     },
     "execution_count": 26,
     "metadata": {},
     "output_type": "execute_result"
    },
    {
     "data": {
      "image/png": "[encoded data removed]",
      "text/plain": [
       "<matplotlib.figure.Figure at 0x1119b7b10>"
      ]
     },
     "metadata": {},
     "output_type": "display_data"
    }
   ],
   "source": [
    "ts = pd.Series(np.random.randn(1000), index=pd.date_range('1/1/2000', periods=1000))\n",
    "ts = ts.cumsum()\n",
    "ts.plot()"
   ]
  },
  {
   "cell_type": "code",
   "execution_count": 54,
   "metadata": {
    "collapsed": false
   },
   "outputs": [
    {
     "data": {
      "text/plain": [
       "0    153\n",
       "1    153\n",
       "2    153\n",
       "Name: num_review_tokens, dtype: int64"
      ]
     },
     "execution_count": 54,
     "metadata": {},
     "output_type": "execute_result"
    }
   ],
   "source": [
    "tk = pd.Series(google.num_review_tokens)\n",
    "tk = tk.cummin()\n",
    "tk[:3]"
   ]
  },
  {
   "cell_type": "code",
   "execution_count": 98,
   "metadata": {
    "collapsed": false
   },
   "outputs": [],
   "source": [
    "# g = google.describe()\n",
    "# db = imdb.describe()\n",
    "# g.plot()\n",
    "# db.plot()"
   ]
  },
  {
   "cell_type": "code",
   "execution_count": 85,
   "metadata": {
    "collapsed": false
   },
   "outputs": [],
   "source": []
  },
  {
   "cell_type": "code",
   "execution_count": 87,
   "metadata": {
    "collapsed": false
   },
   "outputs": [
    {
     "data": {
      "text/plain": [
       "<matplotlib.axes._subplots.AxesSubplot at 0x10ed95190>"
      ]
     },
     "execution_count": 87,
     "metadata": {},
     "output_type": "execute_result"
    },
    {
     "data": {
      "image/png": "[encoded data removed]",
      "text/plain": [
       "<matplotlib.figure.Figure at 0x114eef650>"
      ]
     },
     "metadata": {},
     "output_type": "display_data"
    }
   ],
   "source": [
    "sums = pd.DataFrame([gsum,isum,tsum])\n",
    "sums.plot(kind='bar')"
   ]
  },
  {
   "cell_type": "code",
   "execution_count": 82,
   "metadata": {
    "collapsed": false
   },
   "outputs": [
    {
     "data": {
      "text/plain": [
       "5750039"
      ]
     },
     "execution_count": 82,
     "metadata": {},
     "output_type": "execute_result"
    }
   ],
   "source": []
  },
  {
   "cell_type": "code",
   "execution_count": 84,
   "metadata": {
    "collapsed": false
   },
   "outputs": [
    {
     "data": {
      "text/plain": [
       "5672869"
      ]
     },
     "execution_count": 84,
     "metadata": {},
     "output_type": "execute_result"
    }
   ],
   "source": []
  },
  {
   "cell_type": "code",
   "execution_count": 58,
   "metadata": {
    "collapsed": false
   },
   "outputs": [],
   "source": [
    "tokens = google.num_review_tokens"
   ]
  },
  {
   "cell_type": "code",
   "execution_count": 22,
   "metadata": {
    "collapsed": false
   },
   "outputs": [],
   "source": [
    "df = pd.DataFrame(np.random.randn(1000, 4), index=ts.index, columns=list('ABCD'))"
   ]
  },
  {
   "cell_type": "code",
   "execution_count": 15,
   "metadata": {
    "collapsed": false
   },
   "outputs": [
    {
     "data": {
      "text/plain": [
       "5786346"
      ]
     },
     "execution_count": 15,
     "metadata": {},
     "output_type": "execute_result"
    }
   ],
   "source": [
    "google.num_review_tokens.sum()"
   ]
  },
  {
   "cell_type": "code",
   "execution_count": 11,
   "metadata": {
    "collapsed": false
   },
   "outputs": [
    {
     "data": {
      "text/plain": [
       "5093703"
      ]
     },
     "execution_count": 11,
     "metadata": {},
     "output_type": "execute_result"
    }
   ],
   "source": [
    "google.retrieved_vectors.sum()"
   ]
  },
  {
   "cell_type": "code",
   "execution_count": 10,
   "metadata": {
    "collapsed": false
   },
   "outputs": [
    {
     "data": {
      "image/png": "[encoded data removed]",
      "text/plain": [
       "<matplotlib.figure.Figure at 0x110a06b90>"
      ]
     },
     "metadata": {},
     "output_type": "display_data"
    }
   ],
   "source": [
    "ax = google[['missed']].plot(kind='density')"
   ]
  },
  {
   "cell_type": "code",
   "execution_count": null,
   "metadata": {
    "collapsed": true
   },
   "outputs": [],
   "source": []
  },
  {
   "cell_type": "code",
   "execution_count": 13,
   "metadata": {
    "collapsed": false
   },
   "outputs": [
    {
     "data": {
      "text/plain": [
       "<matplotlib.axes._subplots.AxesSubplot at 0x111b40e50>"
      ]
     },
     "execution_count": 13,
     "metadata": {},
     "output_type": "execute_result"
    },
    {
     "data": {
      "image/png": "[encoded data removed]",
      "text/plain": [
       "<matplotlib.figure.Figure at 0x111b66250>"
      ]
     },
     "metadata": {},
     "output_type": "display_data"
    }
   ],
   "source": [
    "google[['num_review_tokens','retrieved_vectors']].plot(kind='density', figsize=(9,10))"
   ]
  },
  {
   "cell_type": "code",
   "execution_count": 82,
   "metadata": {
    "collapsed": false
   },
   "outputs": [
    {
     "data": {
      "text/plain": [
       "[<matplotlib.lines.Line2D at 0x11f8e4750>]"
      ]
     },
     "execution_count": 82,
     "metadata": {},
     "output_type": "execute_result"
    },
    {
     "data": {
      "image/png": "[encoded data removed]",
      "text/plain": [
       "<matplotlib.figure.Figure at 0x11f08aa10>"
      ]
     },
     "metadata": {},
     "output_type": "display_data"
    }
   ],
   "source": [
    "from collections import Counter\n",
    "google_ratio = Counter(difference)\n",
    "x, y = google_ratio.keys(), google_ratio.values()\n",
    "plt.plot(x, y)"
   ]
  },
  {
   "cell_type": "code",
   "execution_count": 188,
   "metadata": {
    "collapsed": false
   },
   "outputs": [],
   "source": [
    "google_df = pd.DataFrame(google_ratio, columns=['review_tokens','retrieved_vectors'])\n",
    "google_df['missed'] = google_df.review_tokens - google_df.retrieved_vectors\n",
    "google_df.to_csv('ratio_google.csv')"
   ]
  },
  {
   "cell_type": "code",
   "execution_count": 190,
   "metadata": {
    "collapsed": true
   },
   "outputs": [],
   "source": [
    "imdb_df = pd.DataFrame(imdb_ratio, columns=['review_tokens','retrieved_vectors'])\n",
    "imdb_df['missed'] = imdb_df.review_tokens - imdb_df.retrieved_vectors\n",
    "imdb_df.to_csv('ratio_imdb.csv')"
   ]
  },
  {
   "cell_type": "code",
   "execution_count": 196,
   "metadata": {
    "collapsed": true
   },
   "outputs": [],
   "source": [
    "text8_df = pd.DataFrame(text8_ratio, columns=['review_tokens','retrieved_vectors'])\n",
    "text8_df['missed'] = text8_df.review_tokens - text8_df.retrieved_vectors\n",
    "text8_df.to_csv('ratio_text8.csv')"
   ]
  },
  {
   "cell_type": "markdown",
   "metadata": {},
   "source": [
    "## Average Error Factor"
   ]
  },
  {
   "cell_type": "markdown",
   "metadata": {},
   "source": [
    "    Average retrieval error = \n",
    "$$\\frac{ \\sum_{i=1}^n{missed\\_vectors_i} } { n }$$\n",
    "\n",
    "    in other words:\n",
    "\n",
    "$$\\frac{ \\sum_{i=1}^{n}({tokens_i - retrieved_i})}{ n }$$\n",
    "\n",
    "where, \n",
    "\n",
    "$tokens$: the total number of tokens in all reviews.<br>\n",
    "$retrieved$: the total number of retrieved vectors for all reviews.<br>\n",
    "$n$: the total number of reviews."
   ]
  },
  {
   "cell_type": "code",
   "execution_count": 156,
   "metadata": {
    "collapsed": true
   },
   "outputs": [],
   "source": [
    "def average_error(tokens, retrieve, n=5000):\n",
    "    err = (sum(tokens) - sum(retrieve)) / 50000.\n",
    "    return float('{:.4f}'.format(err))"
   ]
  },
  {
   "cell_type": "code",
   "execution_count": 157,
   "metadata": {
    "collapsed": false
   },
   "outputs": [
    {
     "data": {
      "text/plain": [
       "28.0397"
      ]
     },
     "execution_count": 157,
     "metadata": {},
     "output_type": "execute_result"
    }
   ],
   "source": [
    "average_error(df_google.review_tokens, df_google.retrieved_vectors)"
   ]
  },
  {
   "cell_type": "code",
   "execution_count": 158,
   "metadata": {
    "collapsed": false
   },
   "outputs": [
    {
     "data": {
      "text/plain": [
       "1.4622"
      ]
     },
     "execution_count": 158,
     "metadata": {},
     "output_type": "execute_result"
    }
   ],
   "source": [
    "average_error(df_imdb.review_tokens, df_imdb.retrieved_vectors)"
   ]
  },
  {
   "cell_type": "code",
   "execution_count": 160,
   "metadata": {
    "collapsed": false
   },
   "outputs": [
    {
     "data": {
      "text/plain": [
       "4.619"
      ]
     },
     "execution_count": 160,
     "metadata": {},
     "output_type": "execute_result"
    }
   ],
   "source": [
    "average_error(df_text8.review_tokens, df_text8.retrieved_vectors)"
   ]
  },
  {
   "cell_type": "code",
   "execution_count": null,
   "metadata": {
    "collapsed": true
   },
   "outputs": [],
   "source": []
  },
  {
   "cell_type": "code",
   "execution_count": 191,
   "metadata": {
    "collapsed": false
   },
   "outputs": [
    {
     "data": {
      "text/plain": [
       "28.03974"
      ]
     },
     "execution_count": 191,
     "metadata": {},
     "output_type": "execute_result"
    }
   ],
   "source": [
    "float(google_df.missed.sum()) / len(google_df.index)"
   ]
  },
  {
   "cell_type": "code",
   "execution_count": 193,
   "metadata": {
    "collapsed": false
   },
   "outputs": [
    {
     "data": {
      "text/plain": [
       "1.46216"
      ]
     },
     "execution_count": 193,
     "metadata": {},
     "output_type": "execute_result"
    }
   ],
   "source": [
    "float(imdb_df.missed.sum()) / len(imdb_df)"
   ]
  },
  {
   "cell_type": "code",
   "execution_count": 197,
   "metadata": {
    "collapsed": false
   },
   "outputs": [
    {
     "data": {
      "text/plain": [
       "4.61896"
      ]
     },
     "execution_count": 197,
     "metadata": {},
     "output_type": "execute_result"
    }
   ],
   "source": [
    "float(text8_df.missed.sum()) / len(text8_df)"
   ]
  },
  {
   "cell_type": "code",
   "execution_count": 139,
   "metadata": {
    "collapsed": false
   },
   "outputs": [
    {
     "data": {
      "text/plain": [
       "234.13926000000001"
      ]
     },
     "execution_count": 139,
     "metadata": {},
     "output_type": "execute_result"
    }
   ],
   "source": [
    "# token per review\n",
    "df_imdb.review_tokens.sum()/float(len(df_imdb))"
   ]
  },
  {
   "cell_type": "code",
   "execution_count": 140,
   "metadata": {
    "collapsed": false
   },
   "outputs": [
    {
     "data": {
      "text/plain": [
       "234.13926000000001"
      ]
     },
     "execution_count": 140,
     "metadata": {},
     "output_type": "execute_result"
    }
   ],
   "source": [
    "# token per review\n",
    "df_google.review_tokens.sum()/float(len(df_google))"
   ]
  },
  {
   "cell_type": "code",
   "execution_count": 143,
   "metadata": {
    "collapsed": false
   },
   "outputs": [
    {
     "data": {
      "text/plain": [
       "1.4621599999999999"
      ]
     },
     "execution_count": 143,
     "metadata": {},
     "output_type": "execute_result"
    }
   ],
   "source": [
    "(df_imdb.review_tokens.sum() - df_imdb.retrieved_vectors.sum()) / float(len(df_imdb))"
   ]
  },
  {
   "cell_type": "code",
   "execution_count": null,
   "metadata": {
    "collapsed": true
   },
   "outputs": [],
   "source": [
    "# plotting average retrieval"
   ]
  },
  {
   "cell_type": "code",
   "execution_count": 9,
   "metadata": {
    "collapsed": true
   },
   "outputs": [],
   "source": [
    "import pandas as pd"
   ]
  },
  {
   "cell_type": "code",
   "execution_count": 32,
   "metadata": {
    "collapsed": true
   },
   "outputs": [],
   "source": [
    "df_imdb = pd.read_csv('logs/ratio_imdb.csv', index_col=None)\n",
    "del df_imdb['Unnamed: 0']"
   ]
  },
  {
   "cell_type": "code",
   "execution_count": 33,
   "metadata": {
    "collapsed": false
   },
   "outputs": [],
   "source": [
    "df_google = pd.read_csv('logs/ratio_google.csv', index_col=None)\n",
    "del df_google['Unnamed: 0']"
   ]
  },
  {
   "cell_type": "code",
   "execution_count": 91,
   "metadata": {
    "collapsed": true
   },
   "outputs": [],
   "source": [
    "df_text8 = pd.read_csv('logs/ratio_text8.csv', index_col=None)\n",
    "del df_text8['Unnamed: 0']"
   ]
  },
  {
   "cell_type": "code",
   "execution_count": 92,
   "metadata": {
    "collapsed": false
   },
   "outputs": [
    {
     "data": {
      "image/png": "[encoded data removed]",
      "text/plain": [
       "<matplotlib.figure.Figure at 0x119ef16d0>"
      ]
     },
     "metadata": {},
     "output_type": "display_data"
    },
    {
     "data": {
      "image/png": "[encoded data removed]",
      "text/plain": [
       "<matplotlib.figure.Figure at 0x11bc17950>"
      ]
     },
     "metadata": {},
     "output_type": "display_data"
    },
    {
     "data": {
      "image/png": "[encoded data removed]",
      "text/plain": [
       "<matplotlib.figure.Figure at 0x11c2de690>"
      ]
     },
     "metadata": {},
     "output_type": "display_data"
    }
   ],
   "source": [
    "plot_error(df_imdb)\n",
    "plot_error(df_google)\n",
    "plot_error(df_text8)"
   ]
  },
  {
   "cell_type": "code",
   "execution_count": 25,
   "metadata": {
    "collapsed": false
   },
   "outputs": [],
   "source": [
    "def plot_error(df):\n",
    "    df[['review_tokens', 'retrieved_vectors']].plot(kind='density')"
   ]
  },
  {
   "cell_type": "code",
   "execution_count": 93,
   "metadata": {
    "collapsed": false
   },
   "outputs": [],
   "source": [
    "gsum = sum(df_google.retrieved_vectors)\n",
    "isum = sum(df_imdb.retrieved_vectors)\n",
    "tsum = sum(df_text8.retrieved_vectors)"
   ]
  },
  {
   "cell_type": "code",
   "execution_count": 94,
   "metadata": {
    "collapsed": true
   },
   "outputs": [],
   "source": [
    "gtot = sum(df_google.review_tokens)\n",
    "itot = sum(df_imdb.review_tokens)\n",
    "ttot = sum(df_text8.review_tokens)"
   ]
  },
  {
   "cell_type": "code",
   "execution_count": 95,
   "metadata": {
    "collapsed": true
   },
   "outputs": [],
   "source": [
    "ind = np.arange(3)\n",
    "width = 0.1"
   ]
  },
  {
   "cell_type": "code",
   "execution_count": 131,
   "metadata": {
    "collapsed": false
   },
   "outputs": [
    {
     "data": {
      "image/png": "[encoded data removed]",
      "text/plain": [
       "<matplotlib.figure.Figure at 0x11dc66a10>"
      ]
     },
     "metadata": {},
     "output_type": "display_data"
    }
   ],
   "source": [
    "totals = (itot, gtot, ttot)\n",
    "retrieves = (isum, gsum, tsum)\n",
    "fig, ax = plt.subplots()\n",
    "rect1 = ax.bar(ind, retrieves, width, color='r')#, yerr=menStd)\n",
    "rect2 = ax.bar(ind + 0.1, totals, width, color='b')#, yerr=menStd)\n",
    "ax.legend(('retrieved vectors', 'review tokens'), bbox_to_anchor = (1, 0.5))\n",
    "ax.set_xticks(ind + width)\n",
    "ax.set_xticklabels(('IMDB', 'GoogleNews', 'text8'))\n",
    "plt.grid()\n",
    "plt.show()"
   ]
  },
  {
   "cell_type": "code",
   "execution_count": null,
   "metadata": {
    "collapsed": true
   },
   "outputs": [],
   "source": []
  }
 ],
 "metadata": {
  "kernelspec": {
   "display_name": "Python 2",
   "language": "python",
   "name": "python2"
  },
  "language_info": {
   "codemirror_mode": {
    "name": "ipython",
    "version": 2
   },
   "file_extension": ".py",
   "mimetype": "text/x-python",
   "name": "python",
   "nbconvert_exporter": "python",
   "pygments_lexer": "ipython2",
   "version": "2.7.10"
  }
 },
 "nbformat": 4,
 "nbformat_minor": 0
}
